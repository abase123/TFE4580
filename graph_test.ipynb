{
 "cells": [
  {
   "cell_type": "code",
   "execution_count": 1,
   "metadata": {},
   "outputs": [],
   "source": [
    "import pandas as pd\n",
    "import numpy as np\n",
    "\n",
    "import networkx as nx\n",
    "import matplotlib.pyplot as plt  "
   ]
  },
  {
   "cell_type": "code",
   "execution_count": null,
   "metadata": {},
   "outputs": [],
   "source": [
    "\"\"\" TRANSPOSING TIME SERIES FOR EASIER MANIPULATION \"\"\"\n",
    "\n",
    "# The name of the original CSV file\n",
    "input_filename = 'Data/time_series.csv'\n",
    "\n",
    "# The name of the new CSV file with the ID column added\n",
    "output_filename = 'Data/time_series_T.csv'\n",
    "\n",
    "# Read the original CSV file into a DataFrame\n",
    "df = pd.read_csv(input_filename)\n",
    "\n",
    "# Add an 'ID' column, which is a sequence of numbers starting from 1\n",
    "#df.insert(0, 'ID', range(1, 1 + len(df)))\n",
    "df=df.T\n",
    "\n",
    "# Save the DataFrame with the new 'ID' column back to a new CSV file\n",
    "df.to_csv(output_filename, index=False)\n"
   ]
  },
  {
   "cell_type": "code",
   "execution_count": 2,
   "metadata": {},
   "outputs": [
    {
     "name": "stdout",
     "output_type": "stream",
     "text": [
      "RangeIndex(start=0, stop=5766, step=1)\n"
     ]
    }
   ],
   "source": [
    "print(df.columns)"
   ]
  },
  {
   "cell_type": "markdown",
   "metadata": {},
   "source": [
    "### Check If I have some constant values"
   ]
  },
  {
   "cell_type": "code",
   "execution_count": 2,
   "metadata": {},
   "outputs": [],
   "source": [
    "\n",
    "df = pd.read_csv(\"Data/time_series_T.csv\")\n",
    "P =df.values"
   ]
  },
  {
   "cell_type": "code",
   "execution_count": 3,
   "metadata": {},
   "outputs": [],
   "source": [
    "\n",
    "# Assuming 'timeseries' is your dataset\n",
    "timeseries = np.nan_to_num(P, nan=0.0, posinf=0.0, neginf=0.0)\n",
    "\n",
    "# Quickly check if there are any constant columns\n",
    "if np.any(np.std(timeseries, axis=0) == 0):\n",
    "    print(\"Dataset contains constant time series.\")\n"
   ]
  },
  {
   "cell_type": "markdown",
   "metadata": {},
   "source": [
    "### Just use a chunck of Data "
   ]
  },
  {
   "cell_type": "code",
   "execution_count": 4,
   "metadata": {},
   "outputs": [],
   "source": [
    "\n",
    "# Load your data here\n",
    "# For demonstration, let's assume you've already loaded your data into a variable called 'timeseries'\n",
    "# timeseries shape: [time x neuron]\n",
    "\n",
    "# Select a subset of the data\n",
    "num_neurons_subset = 500  # Choose how many neurons you want to include\n",
    "time_start = 0  # Starting index for the time series\n",
    "time_end = 1000  # Ending index for the time series, make sure this is within the bounds of your dataset\n",
    "\n",
    "timeseries_subset = P[time_start:time_end, :num_neurons_subset]\n"
   ]
  },
  {
   "cell_type": "markdown",
   "metadata": {},
   "source": [
    "### Sliding window and corr features"
   ]
  },
  {
   "cell_type": "code",
   "execution_count": 5,
   "metadata": {},
   "outputs": [
    {
     "name": "stdout",
     "output_type": "stream",
     "text": [
      "(191, 500, 500)\n",
      "[[[ 0.00000000e+00  0.00000000e+00  0.00000000e+00 ...  0.00000000e+00\n",
      "    0.00000000e+00  0.00000000e+00]\n",
      "  [ 0.00000000e+00  0.00000000e+00 -7.23750124e-01 ...  1.45527013e-01\n",
      "   -6.68446025e-01 -2.45517313e-01]\n",
      "  [ 0.00000000e+00 -7.23750124e-01  0.00000000e+00 ... -3.93540520e-01\n",
      "    2.41041540e-01  2.16496702e-01]\n",
      "  ...\n",
      "  [ 0.00000000e+00  1.45527013e-01 -3.93540520e-01 ...  0.00000000e+00\n",
      "   -2.48026141e-01 -9.77825164e-04]\n",
      "  [ 0.00000000e+00 -6.68446025e-01  2.41041540e-01 ... -2.48026141e-01\n",
      "    0.00000000e+00  9.57886521e-02]\n",
      "  [ 0.00000000e+00 -2.45517313e-01  2.16496702e-01 ... -9.77825164e-04\n",
      "    9.57886521e-02  0.00000000e+00]]\n",
      "\n",
      " [[ 0.00000000e+00  0.00000000e+00  0.00000000e+00 ...  0.00000000e+00\n",
      "    0.00000000e+00  0.00000000e+00]\n",
      "  [ 0.00000000e+00  0.00000000e+00 -7.54160907e-01 ...  1.70360302e-01\n",
      "   -8.21590540e-01 -3.68504678e-01]\n",
      "  [ 0.00000000e+00 -7.54160907e-01  0.00000000e+00 ... -4.97604877e-01\n",
      "    3.67770271e-01  3.23094165e-01]\n",
      "  ...\n",
      "  [ 0.00000000e+00  1.70360302e-01 -4.97604877e-01 ...  0.00000000e+00\n",
      "    1.19688626e-01 -8.20220090e-02]\n",
      "  [ 0.00000000e+00 -8.21590540e-01  3.67770271e-01 ...  1.19688626e-01\n",
      "    0.00000000e+00  2.65711135e-01]\n",
      "  [ 0.00000000e+00 -3.68504678e-01  3.23094165e-01 ... -8.20220090e-02\n",
      "    2.65711135e-01  0.00000000e+00]]\n",
      "\n",
      " [[ 0.00000000e+00  0.00000000e+00  0.00000000e+00 ...  0.00000000e+00\n",
      "    0.00000000e+00  0.00000000e+00]\n",
      "  [ 0.00000000e+00  0.00000000e+00 -7.93514552e-01 ...  5.65720462e-01\n",
      "   -8.17349422e-01 -1.23389637e-01]\n",
      "  [ 0.00000000e+00 -7.93514552e-01  0.00000000e+00 ... -7.67061189e-01\n",
      "    4.18465748e-01  1.31410820e-01]\n",
      "  ...\n",
      "  [ 0.00000000e+00  5.65720462e-01 -7.67061189e-01 ...  0.00000000e+00\n",
      "   -1.77106023e-01 -8.88821644e-02]\n",
      "  [ 0.00000000e+00 -8.17349422e-01  4.18465748e-01 ... -1.77106023e-01\n",
      "    0.00000000e+00  8.73580008e-02]\n",
      "  [ 0.00000000e+00 -1.23389637e-01  1.31410820e-01 ... -8.88821644e-02\n",
      "    8.73580008e-02  0.00000000e+00]]\n",
      "\n",
      " ...\n",
      "\n",
      " [[ 0.00000000e+00  0.00000000e+00  2.32307668e-02 ...  7.84923094e-01\n",
      "   -1.96799771e-02  6.25505702e-02]\n",
      "  [ 0.00000000e+00  0.00000000e+00  0.00000000e+00 ...  0.00000000e+00\n",
      "    0.00000000e+00  0.00000000e+00]\n",
      "  [ 2.32307668e-02  0.00000000e+00  0.00000000e+00 ... -2.44053149e-01\n",
      "    4.35966424e-01  4.49733460e-02]\n",
      "  ...\n",
      "  [ 7.84923094e-01  0.00000000e+00 -2.44053149e-01 ...  0.00000000e+00\n",
      "    2.06749972e-01 -2.81470645e-02]\n",
      "  [-1.96799771e-02  0.00000000e+00  4.35966424e-01 ...  2.06749972e-01\n",
      "    0.00000000e+00 -3.80992340e-02]\n",
      "  [ 6.25505702e-02  0.00000000e+00  4.49733460e-02 ... -2.81470645e-02\n",
      "   -3.80992340e-02  0.00000000e+00]]\n",
      "\n",
      " [[ 0.00000000e+00  0.00000000e+00 -7.06096955e-17 ...  5.51417959e-01\n",
      "   -1.60953087e-17  5.27570286e-02]\n",
      "  [ 0.00000000e+00  0.00000000e+00  0.00000000e+00 ...  0.00000000e+00\n",
      "    0.00000000e+00  0.00000000e+00]\n",
      "  [-7.06096955e-17  0.00000000e+00  0.00000000e+00 ... -4.02309353e-01\n",
      "   -9.99174252e-01  8.31615217e-02]\n",
      "  ...\n",
      "  [ 5.51417959e-01  0.00000000e+00 -4.02309353e-01 ...  0.00000000e+00\n",
      "    4.02641834e-01 -1.77113742e-01]\n",
      "  [-1.60953087e-17  0.00000000e+00 -9.99174252e-01 ...  4.02641834e-01\n",
      "    0.00000000e+00 -7.43670282e-02]\n",
      "  [ 5.27570286e-02  0.00000000e+00  8.31615217e-02 ... -1.77113742e-01\n",
      "   -7.43670282e-02  0.00000000e+00]]\n",
      "\n",
      " [[ 0.00000000e+00  0.00000000e+00 -1.51731754e-17 ...  4.25828906e-01\n",
      "    1.47045404e-18  5.84889487e-02]\n",
      "  [ 0.00000000e+00  0.00000000e+00  0.00000000e+00 ...  0.00000000e+00\n",
      "    0.00000000e+00  0.00000000e+00]\n",
      "  [-1.51731754e-17  0.00000000e+00  0.00000000e+00 ... -3.72993846e-01\n",
      "   -1.00000000e+00 -1.79315523e-01]\n",
      "  ...\n",
      "  [ 4.25828906e-01  0.00000000e+00 -3.72993846e-01 ...  0.00000000e+00\n",
      "    3.72993846e-01 -2.26619450e-01]\n",
      "  [ 1.47045404e-18  0.00000000e+00 -1.00000000e+00 ...  3.72993846e-01\n",
      "    0.00000000e+00  1.79315523e-01]\n",
      "  [ 5.84889487e-02  0.00000000e+00 -1.79315523e-01 ... -2.26619450e-01\n",
      "    1.79315523e-01  0.00000000e+00]]]\n"
     ]
    }
   ],
   "source": [
    "\n",
    "def corrcoef(x):\n",
    "    \"\"\"Compute the Pearson correlation coefficient matrix with handling for constant time series.\"\"\"\n",
    "    mean_x = np.mean(x, axis=1, keepdims=True)\n",
    "    xm = x - mean_x\n",
    "    c = np.dot(xm, xm.T)\n",
    "    c /= x.shape[1] - 1\n",
    "    d = np.diag(c)\n",
    "    stddev = np.sqrt(d)\n",
    "    \n",
    "    # Prevent division by zero for constant time series\n",
    "    # Set correlation for constant time series to 0 (or could use np.nan or another specified value)\n",
    "    stddev[stddev == 0] = np.inf\n",
    "    c /= stddev[:, None]\n",
    "    c /= stddev[None, :]\n",
    "    \n",
    "    # Correct the diagonal (auto-correlation) to 1 for all neurons\n",
    "    # This step is optional and depends on whether you want to keep self-correlation as 1 or not\n",
    "    np.fill_diagonal(c, 1)\n",
    "    \n",
    "    c = np.clip(c, -1.0, 1.0)\n",
    "    return c\n",
    "\n",
    "\n",
    "def get_fc(timeseries, window_size, remove_self_loops=True):\n",
    "    \"\"\"Compute the FC matrix for a single window of the time series.\"\"\"\n",
    "    fc = corrcoef(timeseries)\n",
    "    if remove_self_loops:\n",
    "        np.fill_diagonal(fc, 0)\n",
    "    return fc\n",
    "\n",
    "def process_dynamic_fc(timeseries, window_size, window_stride, remove_self_loops=True):\n",
    "    \"\"\"Process dynamic functional connectivity for a single time series.\"\"\"\n",
    "    # Shape of timeseries expected: [time x node]\n",
    "    num_windows = (timeseries.shape[0] - window_size) // window_stride + 1\n",
    "    dynamic_fc = []\n",
    "\n",
    "    for w_start in range(0, num_windows * window_stride, window_stride):\n",
    "        windowed_timeseries = timeseries[w_start:w_start + window_size].T  # Transpose to [node x time] for correlation\n",
    "        fc_matrix = get_fc(windowed_timeseries, window_size, remove_self_loops)\n",
    "        dynamic_fc.append(fc_matrix)\n",
    "\n",
    "    return np.array(dynamic_fc)\n",
    "\n",
    "# Example usage\n",
    "#timeseries = np.random.rand(5000, 300)  # Simulated example data: 6000 timesteps, 5766 neurons\n",
    "#df = pd.read_csv(\"Data/time_series_T.csv\")\n",
    "\n",
    "#P =df.values\n",
    "window_size = 50  # Example window size\n",
    "window_stride = 5  # Example window stride\n",
    "\n",
    "dynamic_fc_matrices = process_dynamic_fc(timeseries_subset, window_size, window_stride)\n",
    "print(dynamic_fc_matrices.shape)\n",
    "\n",
    "print(dynamic_fc_matrices)"
   ]
  },
  {
   "cell_type": "code",
   "execution_count": 6,
   "metadata": {},
   "outputs": [
    {
     "name": "stdout",
     "output_type": "stream",
     "text": [
      "(191, 500, 500)\n"
     ]
    }
   ],
   "source": [
    "def convert_to_binary_adjacency(fc_matrices, percentile=70):\n",
    "    \"\"\"\n",
    "    Convert FC matrices to binary adjacency matrices based on a percentile threshold.\n",
    "    \n",
    "    Parameters:\n",
    "    - fc_matrices: An array of shape [num_windows, num_neurons, num_neurons] containing FC matrices.\n",
    "    - percentile: The percentile to use as a threshold for determining connectivity (default is 70, for top 30-percentile).\n",
    "    \n",
    "    Returns:\n",
    "    - adjacency_matrices: An array of the same shape as fc_matrices, but with binary values indicating connectivity.\n",
    "    \n",
    "    \"\"\"\n",
    "    adjacency_matrices = np.zeros_like(fc_matrices)\n",
    "    \n",
    "    for i, fc_matrix in enumerate(fc_matrices):\n",
    "        # Calculate the threshold based on the specified percentile for each FC matrix\n",
    "        threshold = np.percentile(fc_matrix, percentile)\n",
    "        \n",
    "        # Apply the threshold to convert the FC matrix to a binary adjacency matrix\n",
    "        adjacency_matrix = np.where(fc_matrix >= threshold, 1, 0)\n",
    "        \n",
    "        # Optionally, remove self-loops by setting the diagonal to 0\n",
    "        np.fill_diagonal(adjacency_matrix, 0)\n",
    "        \n",
    "        adjacency_matrices[i] = adjacency_matrix\n",
    "        \n",
    "    return adjacency_matrices\n",
    "\n",
    "# Convert the dynamic FC matrices to binary adjacency matrices\n",
    "binary_adjacency_matrices = convert_to_binary_adjacency(dynamic_fc_matrices)\n",
    "\n",
    "print(binary_adjacency_matrices.shape)\n",
    "binary_adjacency_matrices"
   ]
  },
  {
   "cell_type": "markdown",
   "metadata": {},
   "source": [
    "### Visulize graphs for each time frame"
   ]
  },
  {
   "cell_type": "code",
   "execution_count": 7,
   "metadata": {},
   "outputs": [
    {
     "data": {
      "image/png": "[encoded data removed]",
      "text/plain": [
       "<Figure size 800x600 with 1 Axes>"
      ]
     },
     "metadata": {},
     "output_type": "display_data"
    }
   ],
   "source": [
    "\n",
    "\n",
    "def visualize_graph(adj_matrix, ax, title=\"Functional Connectivity Network\"):\n",
    "    \"\"\"\n",
    "    Visualize a single graph from an adjacency matrix.\n",
    "    \n",
    "    Parameters:\n",
    "    - adj_matrix: A binary adjacency matrix (numpy array) where 1 indicates a connection.\n",
    "    - ax: matplotlib axis object to plot the graph.\n",
    "    - title: Title for the graph.\n",
    "    \"\"\"\n",
    "    # Create a graph from the adjacency matrix\n",
    "    G = nx.from_numpy_array(adj_matrix)\n",
    "    \n",
    "    # Draw the network\n",
    "    pos = nx.spring_layout(G)  # Positions for all nodes using one of the layout options\n",
    "    nx.draw_networkx_nodes(G, pos, ax=ax, node_size=50)\n",
    "    nx.draw_networkx_edges(G, pos, ax=ax, alpha=0.5)\n",
    "    ax.set_title(title)\n",
    "    ax.axis('off')\n",
    "\n",
    "# Assuming `binary_adjacency_matrices` is your list/array of binary adjacency matrices\n",
    "# Visualize the graph for the first time window as an example\n",
    "fig, ax = plt.subplots(figsize=(8, 6))\n",
    "visualize_graph(binary_adjacency_matrices[0], ax, title=\"Functional Connectivity Network - Window 1\")\n",
    "\n",
    "plt.show()\n"
   ]
  },
  {
   "cell_type": "code",
   "execution_count": 8,
   "metadata": {},
   "outputs": [
    {
     "data": {
      "image/png": "[encoded data removed]",
      "text/plain": [
       "<Figure size 1000x800 with 1 Axes>"
      ]
     },
     "metadata": {},
     "output_type": "display_data"
    }
   ],
   "source": [
    "import matplotlib.pyplot as plt\n",
    "import networkx as nx\n",
    "from matplotlib.animation import FuncAnimation\n",
    "\n",
    "# Helper function to update plot for each frame\n",
    "def update(num, binary_adjacency_matrices, ax):\n",
    "    ax.clear()\n",
    "    G = nx.from_numpy_array(binary_adjacency_matrices[num])\n",
    "    pos = nx.spring_layout(G, seed=42)  # Fixed seed for consistent layout\n",
    "    nx.draw_networkx_nodes(G, pos, ax=ax, node_size=20, node_color=\"blue\")\n",
    "    nx.draw_networkx_edges(G, pos, ax=ax, alpha=0.5)\n",
    "    ax.set_title(f\"Functional Connectivity Network - Window {num+1}\")\n",
    "    ax.axis('off')\n",
    "\n",
    "fig, ax = plt.subplots(figsize=(10, 8))\n",
    "\n",
    "# Assuming `binary_adjacency_matrices` is a list of your binary adjacency matrices\n",
    "ani = FuncAnimation(fig, update, frames=len(binary_adjacency_matrices), fargs=([binary_adjacency_matrices, ax]), interval=500, repeat=True)\n",
    "\n",
    "plt.show()\n"
   ]
  },
  {
   "cell_type": "code",
   "execution_count": null,
   "metadata": {},
   "outputs": [],
   "source": [
    "ani.save('dynamic_network.mp4', writer='ffmpeg')  # Save as MP4\n"
   ]
  },
  {
   "cell_type": "markdown",
   "metadata": {},
   "source": [
    "### Create time embedding"
   ]
  },
  {
   "cell_type": "code",
   "execution_count": null,
   "metadata": {},
   "outputs": [],
   "source": []
  }
 ],
 "metadata": {
  "kernelspec": {
   "display_name": "proMaster",
   "language": "python",
   "name": "python3"
  },
  "language_info": {
   "codemirror_mode": {
    "name": "ipython",
    "version": 3
   },
   "file_extension": ".py",
   "mimetype": "text/x-python",
   "name": "python",
   "nbconvert_exporter": "python",
   "pygments_lexer": "ipython3",
   "version": "3.8.18"
  }
 },
 "nbformat": 4,
 "nbformat_minor": 2
}
