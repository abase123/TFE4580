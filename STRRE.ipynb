{
 "cells": [
  {
   "cell_type": "markdown",
   "metadata": {},
   "source": [
    "## Dataset"
   ]
  },
  {
   "cell_type": "code",
   "execution_count": 1,
   "metadata": {},
   "outputs": [],
   "source": [
    "\n",
    "from torch.utils.data import Dataset\n",
    "import numpy as np\n",
    "import torch\n",
    "import pandas as pd\n",
    "from sklearn.preprocessing import StandardScaler\n",
    "\n",
    "class ClusterData(Dataset):\n",
    "    def __init__(self, data, seq_len=200,prediction_len=100):\n",
    "        self.seq_len = seq_len\n",
    "        self.data = data\n",
    "        self.prediction_len = prediction_len\n",
    "        self.len = data.shape[0] - seq_len - prediction_len + 1\n",
    "\n",
    "    def __len__(self):\n",
    "        return self.len\n",
    "\n",
    "    def __getitem__(self, idx):\n",
    "        x = self.data[idx:idx+self.seq_len, :]        \n",
    "        label = self.data[idx+self.seq_len:idx+self.seq_len+self.prediction_len, :]\n",
    "        \n",
    "        return torch.tensor(x, dtype=torch.float), torch.tensor(label, dtype=torch.float)\n"
   ]
  },
  {
   "cell_type": "code",
   "execution_count": 2,
   "metadata": {},
   "outputs": [],
   "source": [
    "dir=\"Data/fishes/fish02/s1/df_timeseries_red_clusters_s1.csv\"\n",
    "data_vis=pd.read_csv(dir)\n",
    "#data_vis.head(5)\n",
    "\n"
   ]
  },
  {
   "cell_type": "code",
   "execution_count": 3,
   "metadata": {},
   "outputs": [],
   "source": [
    "def scaler(X):\n",
    "    X = np.transpose(X)\n",
    "    scaler = StandardScaler()\n",
    "    X_scaled = scaler.fit_transform(X)\n",
    "\n",
    "    return np.transpose(X_scaled)"
   ]
  },
  {
   "cell_type": "code",
   "execution_count": 4,
   "metadata": {},
   "outputs": [
    {
     "data": {
      "text/plain": [
       "array([[-0.3604422 ,  0.56555777, -0.02922168, -0.7301116 ,  0.26995205,\n",
       "         0.32560086, -0.06549535, -0.49053275]])"
      ]
     },
     "execution_count": 4,
     "metadata": {},
     "output_type": "execute_result"
    }
   ],
   "source": [
    "data = np.genfromtxt(dir, delimiter=',', skip_header=1)\n",
    "data[0:0+1, :]  \n",
    "label = data[0+1:0+1+1, :]\n",
    "label\n"
   ]
  },
  {
   "cell_type": "code",
   "execution_count": 24,
   "metadata": {},
   "outputs": [],
   "source": [
    "data = scaler(data)"
   ]
  },
  {
   "cell_type": "code",
   "execution_count": 6,
   "metadata": {},
   "outputs": [],
   "source": [
    "def normalize(X):\n",
    "        X = np.transpose(X)\n",
    "        X_norm = []\n",
    "        for x in X:\n",
    "            x = (x-np.min(x)) / (np.max(x)-np.min(x))\n",
    "            X_norm.append(x)\n",
    "        return np.transpose(X_norm)"
   ]
  },
  {
   "cell_type": "markdown",
   "metadata": {},
   "source": [
    "## DataLoader"
   ]
  },
  {
   "cell_type": "code",
   "execution_count": 7,
   "metadata": {},
   "outputs": [
    {
     "data": {
      "text/plain": [
       "757"
      ]
     },
     "execution_count": 7,
     "metadata": {},
     "output_type": "execute_result"
    }
   ],
   "source": [
    "from torch.utils.data import DataLoader \n",
    "cluster_data=ClusterData(data)\n",
    "dataset_size=len(cluster_data)\n",
    "dataset_size"
   ]
  },
  {
   "cell_type": "code",
   "execution_count": 18,
   "metadata": {},
   "outputs": [],
   "source": [
    "train_dataloader = DataLoader(cluster_data, batch_size=10, shuffle=False)"
   ]
  },
  {
   "cell_type": "markdown",
   "metadata": {},
   "source": []
  },
  {
   "cell_type": "code",
   "execution_count": 9,
   "metadata": {},
   "outputs": [
    {
     "name": "stdout",
     "output_type": "stream",
     "text": [
      "Batch 1:\n",
      "Input shape: torch.Size([10, 200, 8])\n",
      "Label shape: torch.Size([10, 75, 8])\n"
     ]
    }
   ],
   "source": [
    "for batch_idx, (inputs, labels) in enumerate(train_dataloader):\n",
    "    print(f\"Batch {batch_idx + 1}:\")\n",
    "    print(f\"Input shape: {inputs.shape}\")\n",
    "    print(f\"Label shape: {labels.shape}\")\n",
    "    break\n",
    "\n"
   ]
  },
  {
   "cell_type": "markdown",
   "metadata": {},
   "source": [
    "## UTLIS"
   ]
  },
  {
   "cell_type": "code",
   "execution_count": 10,
   "metadata": {},
   "outputs": [],
   "source": [
    "from pathlib import Path\n",
    "\n",
    "import matplotlib.pyplot as plt\n",
    "import numpy as np\n",
    "import torch\n",
    "from sklearn.model_selection import train_test_split\n",
    "from torch.utils.data import TensorDataset\n",
    "\n",
    "\n",
    "def load_and_partition_data(\n",
    "    data_path: Path, seq_length: int = 100\n",
    "):\n",
    "    \"\"\"Loads the given data and paritions it into sequences of equal length.\n",
    "\n",
    "    Args:\n",
    "        data_path: path to the dataset\n",
    "        sequence_length: length of the generated sequences\n",
    "\n",
    "    Returns:\n",
    "        tuple[np.ndarray, int]: tuple of generated sequences and number of\n",
    "            features in dataset\n",
    "    \"\"\"\n",
    "    \n",
    "    data = np.genfromtxt(data_path, delimiter=',', skip_header=1)\n",
    "    \n",
    "    num_features = len(data.keys())\n",
    "\n",
    "    # Check that each feature provides the same number of data points\n",
    "    data_lens = [len(data[key]) for key in data.keys()]\n",
    "    assert len(set(data_lens)) == 1\n",
    "\n",
    "    num_sequences = data_lens[0] // seq_length\n",
    "    sequences = np.empty((num_sequences, seq_length, num_features))\n",
    "\n",
    "    for i in range(0, num_sequences):\n",
    "        # [sequence_length, num_features]\n",
    "        sample = np.asarray(\n",
    "            [data[key][i * seq_length : (i + 1) * seq_length] for key in data.keys()]\n",
    "        ).swapaxes(0, 1)\n",
    "        sequences[i] = sample\n",
    "\n",
    "    return sequences, num_features\n",
    "\n",
    "\n",
    "\n",
    "def make_datasets(sequences: np.ndarray):\n",
    "    \"\"\"Create train and test dataset.\n",
    "\n",
    "    Args:\n",
    "        sequences: sequences to use [num_sequences, sequence_length, num_features]\n",
    "\n",
    "    Returns:\n",
    "        tuple[TensorDataset, TensorDataset]: train and test dataset\n",
    "    \"\"\"\n",
    "    # Split sequences into train and test split\n",
    "    train, test = train_test_split(sequences, test_size=0.2)\n",
    "    return TensorDataset(torch.Tensor(train)), TensorDataset(torch.Tensor(test))\n",
    "\n",
    "\n",
    "def visualize(\n",
    "    src: torch.Tensor,\n",
    "    tgt: torch.Tensor,\n",
    "    pred: torch.Tensor,\n",
    "    pred_infer: torch.Tensor,\n",
    "    idx=0,\n",
    "):\n",
    "    \"\"\"Visualizes a given sample including predictions.\n",
    "\n",
    "    Args:\n",
    "        src: source sequence [bs, src_seq_len, num_features]\n",
    "        tgt: target sequence [bs, tgt_seq_len, num_features]\n",
    "        pred: prediction of the model [bs, tgt_seq_len, num_features]\n",
    "        pred_infer: prediction obtained by running inference\n",
    "            [bs, tgt_seq_len, num_features]\n",
    "        idx: batch index to visualize\n",
    "    \"\"\"\n",
    "    x = np.arange(src.shape[1] + tgt.shape[1])\n",
    "    src_len = src.shape[1]\n",
    "\n",
    "    plt.plot(x[:src_len], src[idx].cpu().detach(), \"bo-\", label=\"src\")\n",
    "    plt.plot(x[src_len:], tgt[idx].cpu().detach(), \"go-\", label=\"tgt\")\n",
    "    plt.plot(x[src_len:], pred[idx].cpu().detach(), \"ro-\", label=\"pred\")\n",
    "    plt.plot(x[src_len:], pred_infer[idx].cpu().detach(), \"yo-\", label=\"pred_infer\")\n",
    "\n",
    "    plt.legend()\n",
    "    plt.show()\n",
    "    plt.clf()\n",
    "\n",
    "\n",
    "def split_sequence(\n",
    "    sequence: np.ndarray, ratio: float = 0.8\n",
    "):\n",
    "    \"\"\"Splits a sequence into 2 (3) parts, as is required by our transformer\n",
    "    model.\n",
    "\n",
    "    Assume our sequence length is L, we then split this into src of length N\n",
    "    and tgt_y of length M, with N + M = L.\n",
    "    src, the first part of the input sequence, is the input to the encoder, and we\n",
    "    expect the decoder to predict tgt_y, the second part of the input sequence.\n",
    "    In addition we generate tgt, which is tgt_y but \"shifted left\" by one - i.e. it\n",
    "    starts with the last token of src, and ends with the second-last token in tgt_y.\n",
    "    This sequence will be the input to the decoder.\n",
    "\n",
    "\n",
    "    Args:\n",
    "        sequence: batched input sequences to split [bs, seq_len, num_features]\n",
    "        ratio: split ratio, N = ratio * L\n",
    "\n",
    "    Returns:\n",
    "        tuple[torch.Tensor, torch.Tensor, torch.Tensor]: src, tgt, tgt_y\n",
    "    \"\"\"\n",
    "    src_end = int(sequence.shape[1] * ratio)\n",
    "    # [bs, src_seq_len, num_features]\n",
    "    src = sequence[:, :src_end]\n",
    "    # [bs, tgt_seq_len, num_features]\n",
    "    tgt = sequence[:, src_end - 1 : -1]\n",
    "    # [bs, tgt_seq_len, num_features]\n",
    "    tgt_y = sequence[:, src_end:]\n",
    "\n",
    "    return src, tgt, tgt_y\n",
    "\n",
    "\n",
    "def move_to_device(device: torch.Tensor, *tensors: torch.Tensor):\n",
    "    \"\"\"Move all given tensors to the given device.\n",
    "\n",
    "    Args:\n",
    "        device: device to move tensors to\n",
    "        tensors: tensors to move\n",
    "\n",
    "    Returns:\n",
    "        list[torch.Tensor]: moved tensors\n",
    "    \"\"\"\n",
    "    moved_tensors = []\n",
    "    for tensor in tensors:\n",
    "        if isinstance(tensor, torch.Tensor):\n",
    "            moved_tensors.append(tensor.to(device))\n",
    "        else:\n",
    "            moved_tensors.append(tensor)\n",
    "    return moved_tensors"
   ]
  },
  {
   "cell_type": "markdown",
   "metadata": {},
   "source": [
    "## Model"
   ]
  },
  {
   "cell_type": "code",
   "execution_count": 11,
   "metadata": {},
   "outputs": [],
   "source": [
    "import math\n",
    "import torch\n",
    "\n",
    "\n",
    "class PositionalEncoding(torch.nn.Module):\n",
    "    def __init__(self, d_model: int, dropout: float = 0.1, max_len: int = 5000):\n",
    "        super().__init__()\n",
    "        self.dropout = torch.nn.Dropout(p=dropout)\n",
    "\n",
    "        position = torch.arange(max_len).unsqueeze(1)\n",
    "        div_term = torch.exp(\n",
    "            torch.arange(0, d_model, 2) * (-math.log(10000.0) / d_model)\n",
    "        )\n",
    "        pe = torch.zeros(1, max_len, d_model)\n",
    "        pe[0, :, 0::2] = torch.sin(position * div_term)\n",
    "        pe[0, :, 1::2] = torch.cos(position * div_term)\n",
    "        self.register_buffer(\"pe\", pe)\n",
    "\n",
    "    def forward(self, x: torch.Tensor):\n",
    "        \"\"\"Adds positional encoding to the given tensor.\n",
    "\n",
    "        Args:\n",
    "            x: tensor to add PE to [bs, seq_len, embed_dim]\n",
    "\n",
    "        Returns:\n",
    "            torch.Tensor: tensor with PE [bs, seq_len, embed_dim]\n",
    "        \"\"\"\n",
    "        x = x + self.pe[:, : x.size(1)]\n",
    "        return self.dropout(x)\n"
   ]
  },
  {
   "cell_type": "code",
   "execution_count": 12,
   "metadata": {},
   "outputs": [],
   "source": [
    "\n",
    "class TransformerWithPE(torch.nn.Module):\n",
    "    def __init__(\n",
    "        self, in_dim: int, out_dim: int, embed_dim: int, num_heads: int, num_layers: int\n",
    "    ):\n",
    "        \"\"\"Initializes a transformer model with positional encoding.\n",
    "\n",
    "        Args:\n",
    "            in_dim: number of input features\n",
    "            out_dim: number of features to predict\n",
    "            embed_dim: embed features to this dimension\n",
    "            num_heads: number of transformer heads\n",
    "            num_layers: number of encoder and decoder layers\n",
    "        \"\"\"\n",
    "        super().__init__()\n",
    "\n",
    "        self.positional_encoding = PositionalEncoding(embed_dim)\n",
    "\n",
    "        self.encoder_embedding = torch.nn.Linear(\n",
    "            in_features=in_dim, out_features=embed_dim\n",
    "        )\n",
    "        self.decoder_embedding = torch.nn.Linear(\n",
    "            in_features=out_dim, out_features=embed_dim\n",
    "        )\n",
    "\n",
    "        self.output_layer = torch.nn.Linear(in_features=embed_dim, out_features=out_dim)\n",
    "\n",
    "        self.transformer = torch.nn.Transformer(\n",
    "            nhead=num_heads,\n",
    "            num_encoder_layers=num_layers,\n",
    "            num_decoder_layers=num_layers,\n",
    "            d_model=embed_dim,\n",
    "            batch_first=True,\n",
    "        )\n",
    "\n",
    "    def forward(self, src: torch.Tensor, tgt: torch.Tensor):\n",
    "        \"\"\"Forward function of the model.\n",
    "\n",
    "        Args:\n",
    "            src: input sequence to the encoder [bs, src_seq_len, num_features]\n",
    "            tgt: input sequence to the decoder [bs, tgt_seq_len, num_features]\n",
    "\n",
    "        Returns:\n",
    "            torch.Tensor: predicted sequence [bs, tgt_seq_len, feat_dim]\n",
    "        \"\"\"\n",
    "        # if self.train:\n",
    "        # Add noise to decoder inputs during training\n",
    "        # tgt = tgt + torch.normal(0, 0.1, size=tgt.shape).to(tgt.device)\n",
    "\n",
    "        # Embed encoder input and add positional encoding.\n",
    "        # [bs, src_seq_len, embed_dim]\n",
    "        src = self.encoder_embedding(src)\n",
    "        src = self.positional_encoding(src)\n",
    "\n",
    "        # Generate mask to avoid attention to future outputs.\n",
    "        # [tgt_seq_len, tgt_seq_len]\n",
    "        tgt_mask = torch.nn.Transformer.generate_square_subsequent_mask(tgt.shape[1])\n",
    "        # Embed decoder input and add positional encoding.\n",
    "        # [bs, tgt_seq_len, embed_dim]\n",
    "        tgt = self.decoder_embedding(tgt)\n",
    "        tgt = self.positional_encoding(tgt)\n",
    "\n",
    "        # Get prediction from transformer and map to output dimension.\n",
    "        # [bs, tgt_seq_len, embed_dim]\n",
    "        pred = self.transformer(src, tgt, tgt_mask=tgt_mask)\n",
    "        pred = self.output_layer(pred)\n",
    "\n",
    "        return pred\n",
    "\n",
    "    def infer(self, src: torch.Tensor, tgt_len: int):\n",
    "        \"\"\"Generate predictions for future time steps.\n",
    "        \n",
    "        Args:\n",
    "            src: Input sequence for the encoder [bs, src_seq_len, num_features].\n",
    "            tgt_len: Number of future time steps to predict.\n",
    "        \n",
    "        Returns:\n",
    "            torch.Tensor: Predicted future values.\n",
    "        \"\"\"\n",
    "        # Initialize the first input for the decoder with the last timestep of src.\n",
    "        current_input = src[:, -1:, :]  # Take the last timestep, keep dimensions.\n",
    "\n",
    "        predictions = []\n",
    "\n",
    "        for _ in range(tgt_len):\n",
    "            # Predict the next step.\n",
    "            next_step = self.forward(src, current_input)[:, -1:, :]\n",
    "            predictions.append(next_step)\n",
    "            \n",
    "            # Update current_input with the predicted next step for the next iteration.\n",
    "            current_input = next_step\n",
    "\n",
    "        # Concatenate all predicted steps.\n",
    "        predictions = torch.cat(predictions, dim=1)\n",
    "\n",
    "        return predictions\n"
   ]
  },
  {
   "cell_type": "markdown",
   "metadata": {},
   "source": [
    "## Training and evaluation"
   ]
  },
  {
   "cell_type": "code",
   "execution_count": 30,
   "metadata": {},
   "outputs": [],
   "source": [
    "import torch\n",
    "\n",
    "BS = 12\n",
    "FEATURE_DIM = 128\n",
    "NUM_HEADS = 8\n",
    "NUM_EPOCHS = 30\n",
    "#NUM_VIS_EXAMPLES = 10        tgt_mask = torch.nn.Transformer.generate_square_subsequent_mask(tgt.shape[1])\n",
    "\n",
    "NUM_LAYERS = 2\n",
    "LR = 0.001"
   ]
  },
  {
   "cell_type": "code",
   "execution_count": null,
   "metadata": {},
   "outputs": [],
   "source": [
    "\n",
    "from sklearn.model_selection import train_test_split\n",
    "\n",
    "split_idx = int(len(data) * 0.9)  # 90% for training\n",
    "\n",
    "# Split the data\n",
    "train_data = data[:split_idx]\n",
    "test_data = data[split_idx:]\n",
    "\n",
    "cluster_data_train = ClusterData(train_data)\n",
    "cluster_data_test = ClusterData(test_data)\n",
    "\n",
    "train_dataloader = DataLoader(cluster_data_train, batch_size=BS, shuffle=False)\n",
    "\n",
    "device = torch.device(\"cuda\" if torch.cuda.is_available() else \"cpu\")\n",
    "\n",
    "# Initialize model, optimizer and loss criterion\n",
    "model = TransformerWithPE(in_dim=8, out_dim=8, embed_dim=128, num_heads=8, num_layers=2).to(device)\n",
    "optimizer = torch.optim.Adam(model.parameters(), lr=LR)\n",
    "criterion = torch.nn.MSELoss()\n",
    "\n",
    "# Train loop\n",
    "for epoch in range(NUM_EPOCHS):\n",
    "    epoch_loss = 0.0\n",
    "    for src, tgt in train_dataloader:\n",
    "        optimizer.zero_grad()\n",
    "        predictions = model(src,tgt)  # Assuming the last N steps are for prediction\n",
    "    \n",
    "        loss = criterion(predictions, tgt)  # Adjust depending on how you've structured your data\n",
    "        \n",
    "        epoch_loss += loss.item()\n",
    "\n",
    "        loss.backward()\n",
    "        optimizer.step()\n",
    "\n",
    "    print(\n",
    "        f\"Epoch [{epoch + 1}/{NUM_EPOCHS}], Loss: \"\n",
    "        f\"{(epoch_loss / len(train_dataloader)):.4f}\"\n",
    "    )\n",
    "\n",
    "    # Evaluate model\n",
    "   # model.eval()\n",
    "    "
   ]
  },
  {
   "cell_type": "code",
   "execution_count": 34,
   "metadata": {},
   "outputs": [],
   "source": [
    "# Assuming the last sequence of the training set is needed to start predictions\n",
    "input_seq_len = cluster_data_train.seq_len  # Length of input sequence the model expects\n",
    "starting_seq = train_data[-input_seq_len:].reshape(1, input_seq_len, -1)  # Reshape for batch size of 1\n",
    "\n",
    "# Convert to tensor and send to the same device as your model\n",
    "starting_seq_tensor = torch.tensor(starting_seq, dtype=torch.float).to(device)\n",
    "\n",
    "# Initialize the sequence with the starting sequence\n",
    "current_input = starting_seq_tensor\n",
    "\n",
    "# Store predictions\n",
    "predictions = []\n",
    "\n",
    "# The total number of steps to predict is the length of the test_data\n",
    "for _ in range(len(test_data)):\n",
    "    # Generate next step prediction\n",
    "    model.eval()\n",
    "    with torch.no_grad():\n",
    "        next_step_pred = model.infer(current_input, tgt_len=1)  # Predict next step\n",
    "        predictions.append(next_step_pred.squeeze().cpu().numpy())  # Store prediction; adjust squeezing as needed\n",
    "        \n",
    "        # Prepare the next input sequence (slide window)\n",
    "        next_input_seq = torch.cat([current_input[:, 1:, :], next_step_pred], dim=1)\n",
    "        current_input = next_input_seq\n",
    "\n",
    "# Convert predictions to a suitable format (e.g., numpy array)\n",
    "predictions = np.array(predictions)\n",
    "\n",
    "# Now, `predictions` contains your forecast for the test period.\n"
   ]
  },
  {
   "cell_type": "code",
   "execution_count": 37,
   "metadata": {},
   "outputs": [
    {
     "data": {
      "image/png": "[encoded data removed]",
      "text/plain": [
       "<Figure size 1400x600 with 1 Axes>"
      ]
     },
     "metadata": {},
     "output_type": "display_data"
    }
   ],
   "source": [
    "import matplotlib.pyplot as plt\n",
    "\n",
    "# Plotting the first feature as an example\n",
    "plt.figure(figsize=(14, 6))\n",
    "plt.plot(test_data[:, 1], label='Actual', color='blue')  # Adjust index if targeting a different feature\n",
    "plt.plot(predictions[:, 1], label='Predicted', color='red')  # Adjust indices accordingly\n",
    "plt.title('Test Set Forecast')\n",
    "plt.xlabel('Time Step')\n",
    "plt.ylabel('Value')\n",
    "plt.legend()\n",
    "plt.show()\n"
   ]
  }
 ],
 "metadata": {
  "kernelspec": {
   "display_name": "proMaster",
   "language": "python",
   "name": "python3"
  },
  "language_info": {
   "codemirror_mode": {
    "name": "ipython",
    "version": 3
   },
   "file_extension": ".py",
   "mimetype": "text/x-python",
   "name": "python",
   "nbconvert_exporter": "python",
   "pygments_lexer": "ipython3",
   "version": "3.9.19"
  }
 },
 "nbformat": 4,
 "nbformat_minor": 2
}
