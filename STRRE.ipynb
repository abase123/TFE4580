{
 "cells": [
  {
   "cell_type": "markdown",
   "metadata": {},
   "source": [
    "## Dataset"
   ]
  },
  {
   "cell_type": "code",
   "execution_count": 24,
   "metadata": {},
   "outputs": [],
   "source": [
    "\n",
    "from torch.utils.data import Dataset\n",
    "import numpy as np\n",
    "import torch\n",
    "import pandas as pd\n",
    "from sklearn.preprocessing import StandardScaler\n",
    "\n",
    "class ClusterData(Dataset):\n",
    "    def __init__(self, dir, seq_len=100):\n",
    "        self.seq_len = seq_len\n",
    "        data=np.genfromtxt(dir, delimiter=',', skip_header=1)\n",
    "        self.X = self.scaler(data[:, [0,1,2,3,4,5,6,7]])\n",
    "        self.y = data[:, [2]]\n",
    "        self.num_labels = len(np.unique(self.y))\n",
    "        self.len = len(self.y)\n",
    "\n",
    "    def __len__(self):\n",
    "        return (self.len - self.seq_len)-1\n",
    "\n",
    "    def __getitem__(self, idx):\n",
    "        x = np.transpose(self.X[idx:idx+self.seq_len])\n",
    "        label = self.y[idx+self.seq_len+1]\n",
    "\n",
    "        return torch.tensor(x, dtype=torch.float), torch.tensor(label, dtype=torch.float)\n",
    "\n",
    "    ## standard scaler\n",
    "    def scaler(self, X):\n",
    "        X = np.transpose(X)\n",
    "        scaler = StandardScaler()\n",
    "        X_scaled = scaler.fit_transform(X)\n",
    "\n",
    "        return np.transpose(X_scaled)\n"
   ]
  },
  {
   "cell_type": "code",
   "execution_count": 30,
   "metadata": {},
   "outputs": [
    {
     "data": {
      "text/plain": [
       "1031"
      ]
     },
     "execution_count": 30,
     "metadata": {},
     "output_type": "execute_result"
    }
   ],
   "source": [
    "dir=\"Data/fishes/fish02/s1/df_timeseries_red_clusters_s1.csv\"\n",
    "data=pd.read_csv(dir).values\n",
    "len(data)"
   ]
  },
  {
   "cell_type": "code",
   "execution_count": 19,
   "metadata": {},
   "outputs": [
    {
     "data": {
      "text/plain": [
       "array([[-0.4653035 , -0.03918175, -0.14511099, ...,  0.06563479,\n",
       "        -0.13389835, -1.22144705],\n",
       "       [-0.3604422 ,  0.56555777, -0.02922168, ...,  0.32560086,\n",
       "        -0.06549535, -0.49053275],\n",
       "       [-0.20472319,  0.36450274,  0.11925249, ...,  0.43059832,\n",
       "         0.16412938, -0.5678883 ],\n",
       "       ...,\n",
       "       [-1.04949442, -0.80083659,  0.2403238 , ..., -0.1170361 ,\n",
       "        -0.60914432, -0.770036  ],\n",
       "       [-0.93945388, -0.66022951,  0.05873017, ..., -0.07327505,\n",
       "        -0.74917304, -0.60596576],\n",
       "       [-0.82811714, -0.58881305,  0.12199081, ..., -0.06425575,\n",
       "        -0.72026573, -1.06753688]])"
      ]
     },
     "execution_count": 19,
     "metadata": {},
     "output_type": "execute_result"
    }
   ],
   "source": [
    "data=np.genfromtxt(dir, delimiter=',', skip_header=1)\n",
    "data"
   ]
  },
  {
   "cell_type": "code",
   "execution_count": 12,
   "metadata": {},
   "outputs": [],
   "source": [
    "def normalize(X):\n",
    "        X = np.transpose(X)\n",
    "        X_norm = []\n",
    "        for x in X:\n",
    "            x = (x-np.min(x)) / (np.max(x)-np.min(x))\n",
    "            X_norm.append(x)\n",
    "        return np.transpose(X_norm)"
   ]
  },
  {
   "cell_type": "markdown",
   "metadata": {},
   "source": [
    "## DataLoader"
   ]
  },
  {
   "cell_type": "code",
   "execution_count": 46,
   "metadata": {},
   "outputs": [
    {
     "data": {
      "text/plain": [
       "930"
      ]
     },
     "execution_count": 46,
     "metadata": {},
     "output_type": "execute_result"
    }
   ],
   "source": [
    "from torch.utils.data import DataLoader \n",
    "data=ClusterData(dir)\n",
    "dataset_size=len(ClusterData(dir))\n",
    "dataset_size"
   ]
  },
  {
   "cell_type": "code",
   "execution_count": 47,
   "metadata": {},
   "outputs": [],
   "source": [
    "train_dataloader = DataLoader(data, batch_size=10, shuffle=True)"
   ]
  },
  {
   "cell_type": "code",
   "execution_count": 48,
   "metadata": {},
   "outputs": [
    {
     "name": "stdout",
     "output_type": "stream",
     "text": [
      "Batch 1:\n",
      "Input shape: torch.Size([10, 8, 100])\n",
      "Label shape: torch.Size([10, 1])\n"
     ]
    }
   ],
   "source": [
    "# Assuming 'train_dataloader' is an instance of DataLoader using your ClusterData dataset\n",
    "for batch_idx, (inputs, labels) in enumerate(train_dataloader):\n",
    "    print(f\"Batch {batch_idx + 1}:\")\n",
    "    print(f\"Input shape: {inputs.shape}\")\n",
    "    print(f\"Label shape: {labels.shape}\")\n",
    "    # Optionally, break after the first batch if you just want to check the shapes\n",
    "    break\n",
    "\n"
   ]
  },
  {
   "cell_type": "markdown",
   "metadata": {},
   "source": [
    "## Model"
   ]
  },
  {
   "cell_type": "code",
   "execution_count": null,
   "metadata": {},
   "outputs": [],
   "source": []
  }
 ],
 "metadata": {
  "kernelspec": {
   "display_name": "proMaster",
   "language": "python",
   "name": "python3"
  },
  "language_info": {
   "codemirror_mode": {
    "name": "ipython",
    "version": 3
   },
   "file_extension": ".py",
   "mimetype": "text/x-python",
   "name": "python",
   "nbconvert_exporter": "python",
   "pygments_lexer": "ipython3",
   "version": "3.8.18"
  }
 },
 "nbformat": 4,
 "nbformat_minor": 2
}
