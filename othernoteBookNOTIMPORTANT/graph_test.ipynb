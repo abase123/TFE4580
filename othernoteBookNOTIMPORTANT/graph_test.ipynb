{
 "cells": [
  {
   "cell_type": "code",
   "execution_count": 2,
   "metadata": {},
   "outputs": [],
   "source": [
    "import pandas as pd\n",
    "import numpy as np\n",
    "\n",
    "import networkx as nx\n",
    "import matplotlib.pyplot as plt  "
   ]
  },
  {
   "cell_type": "code",
   "execution_count": null,
   "metadata": {},
   "outputs": [],
   "source": [
    "\"\"\" TRANSPOSING TIME SERIES FOR EASIER MANIPULATION \"\"\"\n",
    "\n",
    "\"\"\"# The name of the original CSV file\n",
    "input_filename = 'Data/time_series.csv'\n",
    "\n",
    "# The name of the new CSV file with the ID column added\n",
    "output_filename = 'Data/time_series_T.csv'\n",
    "\n",
    "# Read the original CSV file into a DataFrame\n",
    "df = pd.read_csv(input_filename)\n",
    "\n",
    "# Add an 'ID' column, which is a sequence of numbers starting from 1\n",
    "#df.insert(0, 'ID', range(1, 1 + len(df)))\n",
    "df=df.T\n",
    "\n",
    "# Save the DataFrame with the new 'ID' column back to a new CSV file\n",
    "df.to_csv(output_filename, index=False)\"\"\"\n"
   ]
  },
  {
   "cell_type": "code",
   "execution_count": 2,
   "metadata": {},
   "outputs": [
    {
     "name": "stdout",
     "output_type": "stream",
     "text": [
      "RangeIndex(start=0, stop=5766, step=1)\n"
     ]
    }
   ],
   "source": [
    "\"print(df.columns)\""
   ]
  },
  {
   "cell_type": "markdown",
   "metadata": {},
   "source": [
    "### Check If I have some constant values"
   ]
  },
  {
   "cell_type": "code",
   "execution_count": 4,
   "metadata": {},
   "outputs": [
    {
     "data": {
      "text/plain": [
       "array([[-0.4653035 , -0.03918175, -0.14511099, ...,  0.06563479,\n",
       "        -0.13389835, -1.22144705],\n",
       "       [-0.3604422 ,  0.56555777, -0.02922168, ...,  0.32560086,\n",
       "        -0.06549535, -0.49053275],\n",
       "       [-0.20472319,  0.36450274,  0.11925249, ...,  0.43059832,\n",
       "         0.16412938, -0.5678883 ],\n",
       "       ...,\n",
       "       [-1.04949442, -0.80083659,  0.2403238 , ..., -0.1170361 ,\n",
       "        -0.60914432, -0.770036  ],\n",
       "       [-0.93945388, -0.66022951,  0.05873017, ..., -0.07327505,\n",
       "        -0.74917304, -0.60596576],\n",
       "       [-0.82811714, -0.58881305,  0.12199081, ..., -0.06425575,\n",
       "        -0.72026573, -1.06753688]])"
      ]
     },
     "execution_count": 4,
     "metadata": {},
     "output_type": "execute_result"
    }
   ],
   "source": [
    "\n",
    "df = pd.read_csv(\"Data/fishes/fish02/s1/df_timeseries_red_clusters_s1.csv\")\n",
    "P =df.values\n",
    "P"
   ]
  },
  {
   "cell_type": "code",
   "execution_count": 3,
   "metadata": {},
   "outputs": [],
   "source": [
    "\n",
    "timeseries = np.nan_to_num(P, nan=0.0, posinf=0.0, neginf=0.0)\n",
    "\n",
    "# Quickly check if there are any constant columns\n",
    "if np.any(np.std(timeseries, axis=0) == 0):\n",
    "    print(\"Dataset contains constant time series.\")\n"
   ]
  },
  {
   "cell_type": "markdown",
   "metadata": {},
   "source": [
    "### Just use a chunck of Data "
   ]
  },
  {
   "cell_type": "code",
   "execution_count": 4,
   "metadata": {},
   "outputs": [],
   "source": [
    "\n",
    "# Load your data here\n",
    "# timeseries shape: [time x neuron]\n",
    "\n",
    "# Select a subset of the data\n",
    "num_neurons_subset = 500  # Choose how many neurons you want to include\n",
    "time_start = 0  # Starting index for the time series\n",
    "time_end = 1000  # Ending index for the time series \n",
    "\n",
    "timeseries_subset = P[time_start:time_end, :num_neurons_subset]\n"
   ]
  },
  {
   "cell_type": "markdown",
   "metadata": {},
   "source": [
    "### Sliding window and corr features"
   ]
  },
  {
   "cell_type": "code",
   "execution_count": 5,
   "metadata": {},
   "outputs": [
    {
     "name": "stdout",
     "output_type": "stream",
     "text": [
      "(982, 8, 8)\n",
      "[[[ 0.          0.65245749  0.42729305 ... -0.23424899  0.25117412\n",
      "    0.75543488]\n",
      "  [ 0.65245749  0.          0.44055778 ... -0.08516568  0.19779821\n",
      "    0.74018992]\n",
      "  [ 0.42729305  0.44055778  0.         ... -0.24586678  0.24583873\n",
      "    0.41822974]\n",
      "  ...\n",
      "  [-0.23424899 -0.08516568 -0.24586678 ...  0.         -0.40189963\n",
      "   -0.32195106]\n",
      "  [ 0.25117412  0.19779821  0.24583873 ... -0.40189963  0.\n",
      "    0.36202277]\n",
      "  [ 0.75543488  0.74018992  0.41822974 ... -0.32195106  0.36202277\n",
      "    0.        ]]\n",
      "\n",
      " [[ 0.          0.65033603  0.42651441 ... -0.23812931  0.25034527\n",
      "    0.74674088]\n",
      "  [ 0.65033603  0.          0.45270343 ... -0.09481591  0.20232602\n",
      "    0.72136149]\n",
      "  [ 0.42651441  0.45270343  0.         ... -0.25203216  0.24845143\n",
      "    0.39996576]\n",
      "  ...\n",
      "  [-0.23812931 -0.09481591 -0.25203216 ...  0.         -0.40416349\n",
      "   -0.32326224]\n",
      "  [ 0.25034527  0.20232602  0.24845143 ... -0.40416349  0.\n",
      "    0.35623405]\n",
      "  [ 0.74674088  0.72136149  0.39996576 ... -0.32326224  0.35623405\n",
      "    0.        ]]\n",
      "\n",
      " [[ 0.          0.67889135  0.42428531 ... -0.22505049  0.25239583\n",
      "    0.74337482]\n",
      "  [ 0.67889135  0.          0.46841477 ... -0.13107503  0.21134208\n",
      "    0.73448375]\n",
      "  [ 0.42428531  0.46841477  0.         ... -0.24469088  0.24876523\n",
      "    0.3982038 ]\n",
      "  ...\n",
      "  [-0.22505049 -0.13107503 -0.24469088 ...  0.         -0.40924716\n",
      "   -0.31923676]\n",
      "  [ 0.25239583  0.21134208  0.24876523 ... -0.40924716  0.\n",
      "    0.35620634]\n",
      "  [ 0.74337482  0.73448375  0.3982038  ... -0.31923676  0.35620634\n",
      "    0.        ]]\n",
      "\n",
      " ...\n",
      "\n",
      " [[ 0.          0.05255144 -0.24030655 ... -0.14147805  0.32830726\n",
      "    0.05652803]\n",
      "  [ 0.05255144  0.          0.62091018 ...  0.35605154  0.30746081\n",
      "    0.38140427]\n",
      "  [-0.24030655  0.62091018  0.         ...  0.45812186  0.2457432\n",
      "    0.46958507]\n",
      "  ...\n",
      "  [-0.14147805  0.35605154  0.45812186 ...  0.          0.13313479\n",
      "    0.09706936]\n",
      "  [ 0.32830726  0.30746081  0.2457432  ...  0.13313479  0.\n",
      "    0.24958899]\n",
      "  [ 0.05652803  0.38140427  0.46958507 ...  0.09706936  0.24958899\n",
      "    0.        ]]\n",
      "\n",
      " [[ 0.          0.12001381 -0.18386006 ... -0.12785044  0.3583627\n",
      "    0.06535922]\n",
      "  [ 0.12001381  0.          0.61492216 ...  0.30763546  0.46067204\n",
      "    0.43449904]\n",
      "  [-0.18386006  0.61492216  0.         ...  0.42568354  0.3556939\n",
      "    0.5013886 ]\n",
      "  ...\n",
      "  [-0.12785044  0.30763546  0.42568354 ...  0.          0.17774461\n",
      "    0.11237956]\n",
      "  [ 0.3583627   0.46067204  0.3556939  ...  0.17774461  0.\n",
      "    0.25256038]\n",
      "  [ 0.06535922  0.43449904  0.5013886  ...  0.11237956  0.25256038\n",
      "    0.        ]]\n",
      "\n",
      " [[ 0.          0.17105818 -0.16650168 ... -0.13955172  0.39783896\n",
      "    0.08391404]\n",
      "  [ 0.17105818  0.          0.64399625 ...  0.31357287  0.47679752\n",
      "    0.48019353]\n",
      "  [-0.16650168  0.64399625  0.         ...  0.41493018  0.38362182\n",
      "    0.51403917]\n",
      "  ...\n",
      "  [-0.13955172  0.31357287  0.41493018 ...  0.          0.1623633\n",
      "    0.09847315]\n",
      "  [ 0.39783896  0.47679752  0.38362182 ...  0.1623633   0.\n",
      "    0.30999729]\n",
      "  [ 0.08391404  0.48019353  0.51403917 ...  0.09847315  0.30999729\n",
      "    0.        ]]]\n"
     ]
    }
   ],
   "source": [
    "\n",
    "def corrcoef(x):\n",
    "    \"\"\"Compute the Pearson correlation coefficient matrix with handling for constant time series.\n",
    "        Method from stagin.\n",
    "    \n",
    "    \"\"\"\n",
    "    mean_x = np.mean(x, axis=1, keepdims=True)\n",
    "    xm = x - mean_x\n",
    "    c = np.dot(xm, xm.T)\n",
    "    c /= x.shape[1] - 1\n",
    "    d = np.diag(c)\n",
    "    stddev = np.sqrt(d)\n",
    "    \n",
    "    # Prevent division by zero for constant time series\n",
    "    # Set correlation for constant time series to 0 (or could use np.nan or another specified value)\n",
    "    stddev[stddev == 0] = np.inf\n",
    "    c /= stddev[:, None]\n",
    "    c /= stddev[None, :]\n",
    "    \n",
    "    # Correct the diagonal (auto-correlation) to 1 for all neurons\n",
    "    # This step is optional and depends on whether you want to keep self-correlation as 1 or not\n",
    "    np.fill_diagonal(c, 1)\n",
    "    \n",
    "    c = np.clip(c, -1.0, 1.0)\n",
    "    return c\n",
    "\n",
    "\n",
    "def get_fc(timeseries, remove_self_loops=True):\n",
    "    \"\"\"Compute the FC matrix for a single window of the time series.\"\"\"\n",
    "    fc = corrcoef(timeseries)\n",
    "    if remove_self_loops:\n",
    "        np.fill_diagonal(fc, 0)\n",
    "    return fc\n",
    "\n",
    "def process_dynamic_fc(timeseries, window_size, window_stride, remove_self_loops=True):\n",
    "    \"\"\"Process dynamic functional connectivity for a single time series.\"\"\"\n",
    "    # Shape of timeseries expected: [time x node]\n",
    "    num_windows = (timeseries.shape[0] - window_size) // window_stride + 1\n",
    "    dynamic_fc = []\n",
    "\n",
    "    for w_start in range(0, num_windows * window_stride, window_stride):\n",
    "        windowed_timeseries = timeseries[w_start:w_start + window_size].T  # Transpose to [node x time] for correlation\n",
    "        fc_matrix = get_fc(windowed_timeseries, remove_self_loops)\n",
    "        dynamic_fc.append(fc_matrix)\n",
    "\n",
    "    return np.array(dynamic_fc)\n",
    "\n",
    "# Examlpe usage\n",
    "#timeseries = np.random.rand(5000, 300)  # Simulated example data: 6000 timesteps, 5766 neurons\n",
    "#df = pd.read_csv(\"Data/time_series_T.csv\")\n",
    "\n",
    "#P =df.values\n",
    "window_size = 50  # Example window size\n",
    "window_stride = 1  # Example window stride\n",
    "\n",
    "dynamic_fc_matrices = process_dynamic_fc(P, window_size, window_stride)\n",
    "print(dynamic_fc_matrices.shape)\n",
    "\n",
    "print(dynamic_fc_matrices)"
   ]
  },
  {
   "cell_type": "code",
   "execution_count": 6,
   "metadata": {},
   "outputs": [
    {
     "name": "stdout",
     "output_type": "stream",
     "text": [
      "(982, 8, 8)\n"
     ]
    },
    {
     "data": {
      "text/plain": [
       "array([[[0., 1., 1., ..., 0., 0., 1.],\n",
       "        [1., 0., 1., ..., 0., 0., 1.],\n",
       "        [1., 1., 0., ..., 0., 0., 0.],\n",
       "        ...,\n",
       "        [0., 0., 0., ..., 0., 0., 0.],\n",
       "        [0., 0., 0., ..., 0., 0., 0.],\n",
       "        [1., 1., 0., ..., 0., 0., 0.]],\n",
       "\n",
       "       [[0., 1., 1., ..., 0., 0., 1.],\n",
       "        [1., 0., 1., ..., 0., 0., 1.],\n",
       "        [1., 1., 0., ..., 0., 0., 0.],\n",
       "        ...,\n",
       "        [0., 0., 0., ..., 0., 0., 0.],\n",
       "        [0., 0., 0., ..., 0., 0., 0.],\n",
       "        [1., 1., 0., ..., 0., 0., 0.]],\n",
       "\n",
       "       [[0., 1., 1., ..., 0., 0., 1.],\n",
       "        [1., 0., 1., ..., 0., 0., 1.],\n",
       "        [1., 1., 0., ..., 0., 0., 0.],\n",
       "        ...,\n",
       "        [0., 0., 0., ..., 0., 0., 0.],\n",
       "        [0., 0., 0., ..., 0., 0., 0.],\n",
       "        [1., 1., 0., ..., 0., 0., 0.]],\n",
       "\n",
       "       ...,\n",
       "\n",
       "       [[0., 0., 0., ..., 0., 1., 0.],\n",
       "        [0., 0., 1., ..., 1., 1., 1.],\n",
       "        [0., 1., 0., ..., 1., 0., 1.],\n",
       "        ...,\n",
       "        [0., 1., 1., ..., 0., 0., 0.],\n",
       "        [1., 1., 0., ..., 0., 0., 1.],\n",
       "        [0., 1., 1., ..., 0., 1., 0.]],\n",
       "\n",
       "       [[0., 0., 0., ..., 0., 1., 0.],\n",
       "        [0., 0., 1., ..., 1., 1., 1.],\n",
       "        [0., 1., 0., ..., 1., 1., 1.],\n",
       "        ...,\n",
       "        [0., 1., 1., ..., 0., 0., 0.],\n",
       "        [1., 1., 1., ..., 0., 0., 0.],\n",
       "        [0., 1., 1., ..., 0., 0., 0.]],\n",
       "\n",
       "       [[0., 0., 0., ..., 0., 1., 0.],\n",
       "        [0., 0., 1., ..., 1., 1., 1.],\n",
       "        [0., 1., 0., ..., 1., 1., 1.],\n",
       "        ...,\n",
       "        [0., 1., 1., ..., 0., 0., 0.],\n",
       "        [1., 1., 1., ..., 0., 0., 0.],\n",
       "        [0., 1., 1., ..., 0., 0., 0.]]])"
      ]
     },
     "execution_count": 6,
     "metadata": {},
     "output_type": "execute_result"
    }
   ],
   "source": [
    "def convert_to_binary_adjacency(fc_matrices, percentile=70):\n",
    "    \"\"\"\n",
    "    Convert FC matrices to binary adjacency matrices based on a percentile threshold.\n",
    "    \n",
    "    Parameters:\n",
    "    - fc_matrices: An array of shape [num_windows, num_neurons, num_neurons] containing FC matrices.\n",
    "    - percentile: The percentile to use as a threshold for determining connectivity (default is 70, for top 30-percentile).\n",
    "    \n",
    "    Returns:\n",
    "    - adjacency_matrices: An array of the same shape as fc_matrices, but with binary values indicating connectivity.\n",
    "    \n",
    "    \"\"\"\n",
    "    adjacency_matrices = np.zeros_like(fc_matrices)\n",
    "    \n",
    "    for i, fc_matrix in enumerate(fc_matrices):\n",
    "        # Calculate the threshold based on the specified percentile for each FC matrix\n",
    "        threshold = np.percentile(fc_matrix, percentile)\n",
    "        \n",
    "        # Apply the threshold to convert the FC matrix to a binary adjacency matrix\n",
    "        adjacency_matrix = np.where(fc_matrix >= threshold, 1, 0)\n",
    "        \n",
    "        # Optionally, remove self-loops by setting the diagonal to 0\n",
    "        np.fill_diagonal(adjacency_matrix, 0)\n",
    "        \n",
    "        adjacency_matrices[i] = adjacency_matrix\n",
    "        \n",
    "    return adjacency_matrices\n",
    "\n",
    "# Convert the dynamic FC matrices to binary adjacency matrices\n",
    "binary_adjacency_matrices = convert_to_binary_adjacency(dynamic_fc_matrices)\n",
    "\n",
    "print(binary_adjacency_matrices.shape)\n",
    "binary_adjacency_matrices"
   ]
  },
  {
   "cell_type": "markdown",
   "metadata": {},
   "source": [
    "### Visulize graphs for each time frame"
   ]
  },
  {
   "cell_type": "code",
   "execution_count": 7,
   "metadata": {},
   "outputs": [
    {
     "data": {
      "image/png": "[encoded data removed]",
      "text/plain": [
       "<Figure size 800x600 with 1 Axes>"
      ]
     },
     "metadata": {},
     "output_type": "display_data"
    }
   ],
   "source": [
    "\n",
    "\n",
    "def visualize_graph(adj_matrix, ax, title=\"Functional Connectivity Network\"):\n",
    "    \"\"\"\n",
    "    Visualize a single graph from an adjacency matrix.\n",
    "    \n",
    "    Parameters:\n",
    "    - adj_matrix: A binary adjacency matrix (numpy array) where 1 indicates a connection.\n",
    "    - ax: matplotlib axis object to plot the graph.\n",
    "    - title: Title for the graph.\n",
    "    \"\"\"\n",
    "    # Create a graph from the adjacency matrix\n",
    "    G = nx.from_numpy_array(adj_matrix)\n",
    "    \n",
    "    # Draw the network\n",
    "    pos = nx.spring_layout(G)  # Positions for all nodes using one of the layout options\n",
    "    nx.draw_networkx_nodes(G, pos, ax=ax, node_size=50)\n",
    "    nx.draw_networkx_edges(G, pos, ax=ax, alpha=0.5)\n",
    "    ax.set_title(title)\n",
    "    ax.axis('off')\n",
    "\n",
    "# Assuming `binary_adjacency_matrices` is your list/array of binary adjacency matrices\n",
    "# Visualize the graph for the first time window as an example\n",
    "fig, ax = plt.subplots(figsize=(8, 6))\n",
    "visualize_graph(binary_adjacency_matrices[0], ax, title=\"Functional Connectivity Network - Window 1\")\n",
    "\n",
    "plt.show()\n"
   ]
  },
  {
   "cell_type": "code",
   "execution_count": 8,
   "metadata": {},
   "outputs": [
    {
     "data": {
      "image/png": "[encoded data removed]",
      "text/plain": [
       "<Figure size 1000x800 with 1 Axes>"
      ]
     },
     "metadata": {},
     "output_type": "display_data"
    }
   ],
   "source": [
    "import matplotlib.pyplot as plt\n",
    "import networkx as nx\n",
    "from matplotlib.animation import FuncAnimation\n",
    "\n",
    "# Helper function to update plot for each frame\n",
    "def update(num, binary_adjacency_matrices, ax):\n",
    "    ax.clear()\n",
    "    G = nx.from_numpy_array(binary_adjacency_matrices[num])\n",
    "    pos = nx.spring_layout(G, seed=42)  # Fixed seed for consistent layout\n",
    "    nx.draw_networkx_nodes(G, pos, ax=ax, node_size=20, node_color=\"blue\")\n",
    "    nx.draw_networkx_edges(G, pos, ax=ax, alpha=0.5)\n",
    "    ax.set_title(f\"Functional Connectivity Network - Window {num+1}\")\n",
    "    ax.axis('off')\n",
    "\n",
    "fig, ax = plt.subplots(figsize=(10, 8))\n",
    "\n",
    "# Assuming `binary_adjacency_matrices` is a list of your binary adjacency matrices\n",
    "ani = FuncAnimation(fig, update, frames=len(binary_adjacency_matrices), fargs=([binary_adjacency_matrices, ax]), interval=500, repeat=True)\n",
    "\n",
    "plt.show()\n"
   ]
  },
  {
   "cell_type": "code",
   "execution_count": 9,
   "metadata": {},
   "outputs": [
    {
     "ename": "KeyboardInterrupt",
     "evalue": "",
     "output_type": "error",
     "traceback": [
      "\u001b[0;31m---------------------------------------------------------------------------\u001b[0m",
      "\u001b[0;31mKeyboardInterrupt\u001b[0m                         Traceback (most recent call last)",
      "Cell \u001b[0;32mIn[9], line 1\u001b[0m\n\u001b[0;32m----> 1\u001b[0m \u001b[43mani\u001b[49m\u001b[38;5;241;43m.\u001b[39;49m\u001b[43msave\u001b[49m\u001b[43m(\u001b[49m\u001b[38;5;124;43m'\u001b[39;49m\u001b[38;5;124;43mdynamic_network.mp4\u001b[39;49m\u001b[38;5;124;43m'\u001b[39;49m\u001b[43m,\u001b[49m\u001b[43m \u001b[49m\u001b[43mwriter\u001b[49m\u001b[38;5;241;43m=\u001b[39;49m\u001b[38;5;124;43m'\u001b[39;49m\u001b[38;5;124;43mffmpeg\u001b[39;49m\u001b[38;5;124;43m'\u001b[39;49m\u001b[43m)\u001b[49m  \u001b[38;5;66;03m# Save as MP4\u001b[39;00m\n",
      "File \u001b[0;32m~/.local/lib/python3.8/site-packages/matplotlib/animation.py:1095\u001b[0m, in \u001b[0;36mAnimation.save\u001b[0;34m(self, filename, writer, fps, dpi, codec, bitrate, extra_args, metadata, extra_anim, savefig_kwargs, progress_callback)\u001b[0m\n\u001b[1;32m   1093\u001b[0m         progress_callback(frame_number, total_frames)\n\u001b[1;32m   1094\u001b[0m         frame_number \u001b[38;5;241m+\u001b[39m\u001b[38;5;241m=\u001b[39m \u001b[38;5;241m1\u001b[39m\n\u001b[0;32m-> 1095\u001b[0m \u001b[43mwriter\u001b[49m\u001b[38;5;241;43m.\u001b[39;49m\u001b[43mgrab_frame\u001b[49m\u001b[43m(\u001b[49m\u001b[38;5;241;43m*\u001b[39;49m\u001b[38;5;241;43m*\u001b[39;49m\u001b[43msavefig_kwargs\u001b[49m\u001b[43m)\u001b[49m\n",
      "File \u001b[0;32m~/.local/lib/python3.8/site-packages/matplotlib/animation.py:353\u001b[0m, in \u001b[0;36mMovieWriter.grab_frame\u001b[0;34m(self, **savefig_kwargs)\u001b[0m\n\u001b[1;32m    351\u001b[0m \u001b[38;5;28mself\u001b[39m\u001b[38;5;241m.\u001b[39mfig\u001b[38;5;241m.\u001b[39mset_size_inches(\u001b[38;5;28mself\u001b[39m\u001b[38;5;241m.\u001b[39m_w, \u001b[38;5;28mself\u001b[39m\u001b[38;5;241m.\u001b[39m_h)\n\u001b[1;32m    352\u001b[0m \u001b[38;5;66;03m# Save the figure data to the sink, using the frame format and dpi.\u001b[39;00m\n\u001b[0;32m--> 353\u001b[0m \u001b[38;5;28;43mself\u001b[39;49m\u001b[38;5;241;43m.\u001b[39;49m\u001b[43mfig\u001b[49m\u001b[38;5;241;43m.\u001b[39;49m\u001b[43msavefig\u001b[49m\u001b[43m(\u001b[49m\u001b[38;5;28;43mself\u001b[39;49m\u001b[38;5;241;43m.\u001b[39;49m\u001b[43m_proc\u001b[49m\u001b[38;5;241;43m.\u001b[39;49m\u001b[43mstdin\u001b[49m\u001b[43m,\u001b[49m\u001b[43m \u001b[49m\u001b[38;5;28;43mformat\u001b[39;49m\u001b[38;5;241;43m=\u001b[39;49m\u001b[38;5;28;43mself\u001b[39;49m\u001b[38;5;241;43m.\u001b[39;49m\u001b[43mframe_format\u001b[49m\u001b[43m,\u001b[49m\n\u001b[1;32m    354\u001b[0m \u001b[43m                 \u001b[49m\u001b[43mdpi\u001b[49m\u001b[38;5;241;43m=\u001b[39;49m\u001b[38;5;28;43mself\u001b[39;49m\u001b[38;5;241;43m.\u001b[39;49m\u001b[43mdpi\u001b[49m\u001b[43m,\u001b[49m\u001b[43m \u001b[49m\u001b[38;5;241;43m*\u001b[39;49m\u001b[38;5;241;43m*\u001b[39;49m\u001b[43msavefig_kwargs\u001b[49m\u001b[43m)\u001b[49m\n",
      "File \u001b[0;32m~/.local/lib/python3.8/site-packages/matplotlib/figure.py:3019\u001b[0m, in \u001b[0;36mFigure.savefig\u001b[0;34m(self, fname, transparent, **kwargs)\u001b[0m\n\u001b[1;32m   3015\u001b[0m     \u001b[38;5;28;01mfor\u001b[39;00m ax \u001b[38;5;129;01min\u001b[39;00m \u001b[38;5;28mself\u001b[39m\u001b[38;5;241m.\u001b[39maxes:\n\u001b[1;32m   3016\u001b[0m         stack\u001b[38;5;241m.\u001b[39menter_context(\n\u001b[1;32m   3017\u001b[0m             ax\u001b[38;5;241m.\u001b[39mpatch\u001b[38;5;241m.\u001b[39m_cm_set(facecolor\u001b[38;5;241m=\u001b[39m\u001b[38;5;124m'\u001b[39m\u001b[38;5;124mnone\u001b[39m\u001b[38;5;124m'\u001b[39m, edgecolor\u001b[38;5;241m=\u001b[39m\u001b[38;5;124m'\u001b[39m\u001b[38;5;124mnone\u001b[39m\u001b[38;5;124m'\u001b[39m))\n\u001b[0;32m-> 3019\u001b[0m \u001b[38;5;28;43mself\u001b[39;49m\u001b[38;5;241;43m.\u001b[39;49m\u001b[43mcanvas\u001b[49m\u001b[38;5;241;43m.\u001b[39;49m\u001b[43mprint_figure\u001b[49m\u001b[43m(\u001b[49m\u001b[43mfname\u001b[49m\u001b[43m,\u001b[49m\u001b[43m \u001b[49m\u001b[38;5;241;43m*\u001b[39;49m\u001b[38;5;241;43m*\u001b[39;49m\u001b[43mkwargs\u001b[49m\u001b[43m)\u001b[49m\n",
      "File \u001b[0;32m~/.local/lib/python3.8/site-packages/matplotlib/backend_bases.py:2319\u001b[0m, in \u001b[0;36mFigureCanvasBase.print_figure\u001b[0;34m(self, filename, dpi, facecolor, edgecolor, orientation, format, bbox_inches, pad_inches, bbox_extra_artists, backend, **kwargs)\u001b[0m\n\u001b[1;32m   2315\u001b[0m \u001b[38;5;28;01mtry\u001b[39;00m:\n\u001b[1;32m   2316\u001b[0m     \u001b[38;5;66;03m# _get_renderer may change the figure dpi (as vector formats\u001b[39;00m\n\u001b[1;32m   2317\u001b[0m     \u001b[38;5;66;03m# force the figure dpi to 72), so we need to set it again here.\u001b[39;00m\n\u001b[1;32m   2318\u001b[0m     \u001b[38;5;28;01mwith\u001b[39;00m cbook\u001b[38;5;241m.\u001b[39m_setattr_cm(\u001b[38;5;28mself\u001b[39m\u001b[38;5;241m.\u001b[39mfigure, dpi\u001b[38;5;241m=\u001b[39mdpi):\n\u001b[0;32m-> 2319\u001b[0m         result \u001b[38;5;241m=\u001b[39m \u001b[43mprint_method\u001b[49m\u001b[43m(\u001b[49m\n\u001b[1;32m   2320\u001b[0m \u001b[43m            \u001b[49m\u001b[43mfilename\u001b[49m\u001b[43m,\u001b[49m\n\u001b[1;32m   2321\u001b[0m \u001b[43m            \u001b[49m\u001b[43mfacecolor\u001b[49m\u001b[38;5;241;43m=\u001b[39;49m\u001b[43mfacecolor\u001b[49m\u001b[43m,\u001b[49m\n\u001b[1;32m   2322\u001b[0m \u001b[43m            \u001b[49m\u001b[43medgecolor\u001b[49m\u001b[38;5;241;43m=\u001b[39;49m\u001b[43medgecolor\u001b[49m\u001b[43m,\u001b[49m\n\u001b[1;32m   2323\u001b[0m \u001b[43m            \u001b[49m\u001b[43morientation\u001b[49m\u001b[38;5;241;43m=\u001b[39;49m\u001b[43morientation\u001b[49m\u001b[43m,\u001b[49m\n\u001b[1;32m   2324\u001b[0m \u001b[43m            \u001b[49m\u001b[43mbbox_inches_restore\u001b[49m\u001b[38;5;241;43m=\u001b[39;49m\u001b[43m_bbox_inches_restore\u001b[49m\u001b[43m,\u001b[49m\n\u001b[1;32m   2325\u001b[0m \u001b[43m            \u001b[49m\u001b[38;5;241;43m*\u001b[39;49m\u001b[38;5;241;43m*\u001b[39;49m\u001b[43mkwargs\u001b[49m\u001b[43m)\u001b[49m\n\u001b[1;32m   2326\u001b[0m \u001b[38;5;28;01mfinally\u001b[39;00m:\n\u001b[1;32m   2327\u001b[0m     \u001b[38;5;28;01mif\u001b[39;00m bbox_inches \u001b[38;5;129;01mand\u001b[39;00m restore_bbox:\n",
      "File \u001b[0;32m~/.local/lib/python3.8/site-packages/matplotlib/backend_bases.py:1648\u001b[0m, in \u001b[0;36m_check_savefig_extra_args.<locals>.wrapper\u001b[0;34m(*args, **kwargs)\u001b[0m\n\u001b[1;32m   1640\u001b[0m     _api\u001b[38;5;241m.\u001b[39mwarn_deprecated(\n\u001b[1;32m   1641\u001b[0m         \u001b[38;5;124m'\u001b[39m\u001b[38;5;124m3.3\u001b[39m\u001b[38;5;124m'\u001b[39m, name\u001b[38;5;241m=\u001b[39mname, removal\u001b[38;5;241m=\u001b[39m\u001b[38;5;124m'\u001b[39m\u001b[38;5;124m3.6\u001b[39m\u001b[38;5;124m'\u001b[39m,\n\u001b[1;32m   1642\u001b[0m         message\u001b[38;5;241m=\u001b[39m\u001b[38;5;124m'\u001b[39m\u001b[38;5;132;01m%(name)s\u001b[39;00m\u001b[38;5;124m() got unexpected keyword argument \u001b[39m\u001b[38;5;124m\"\u001b[39m\u001b[38;5;124m'\u001b[39m\n\u001b[1;32m   1643\u001b[0m                 \u001b[38;5;241m+\u001b[39m arg \u001b[38;5;241m+\u001b[39m \u001b[38;5;124m'\u001b[39m\u001b[38;5;124m\"\u001b[39m\u001b[38;5;124m which is no longer supported as of \u001b[39m\u001b[38;5;124m'\u001b[39m\n\u001b[1;32m   1644\u001b[0m                 \u001b[38;5;124m'\u001b[39m\u001b[38;5;132;01m%(since)s\u001b[39;00m\u001b[38;5;124m and will become an error \u001b[39m\u001b[38;5;124m'\u001b[39m\n\u001b[1;32m   1645\u001b[0m                 \u001b[38;5;124m'\u001b[39m\u001b[38;5;132;01m%(removal)s\u001b[39;00m\u001b[38;5;124m'\u001b[39m)\n\u001b[1;32m   1646\u001b[0m     kwargs\u001b[38;5;241m.\u001b[39mpop(arg)\n\u001b[0;32m-> 1648\u001b[0m \u001b[38;5;28;01mreturn\u001b[39;00m \u001b[43mfunc\u001b[49m\u001b[43m(\u001b[49m\u001b[38;5;241;43m*\u001b[39;49m\u001b[43margs\u001b[49m\u001b[43m,\u001b[49m\u001b[43m \u001b[49m\u001b[38;5;241;43m*\u001b[39;49m\u001b[38;5;241;43m*\u001b[39;49m\u001b[43mkwargs\u001b[49m\u001b[43m)\u001b[49m\n",
      "File \u001b[0;32m~/.local/lib/python3.8/site-packages/matplotlib/_api/deprecation.py:412\u001b[0m, in \u001b[0;36mdelete_parameter.<locals>.wrapper\u001b[0;34m(*inner_args, **inner_kwargs)\u001b[0m\n\u001b[1;32m    402\u001b[0m     deprecation_addendum \u001b[38;5;241m=\u001b[39m (\n\u001b[1;32m    403\u001b[0m         \u001b[38;5;124mf\u001b[39m\u001b[38;5;124m\"\u001b[39m\u001b[38;5;124mIf any parameter follows \u001b[39m\u001b[38;5;132;01m{\u001b[39;00mname\u001b[38;5;132;01m!r}\u001b[39;00m\u001b[38;5;124m, they should be passed as \u001b[39m\u001b[38;5;124m\"\u001b[39m\n\u001b[1;32m    404\u001b[0m         \u001b[38;5;124mf\u001b[39m\u001b[38;5;124m\"\u001b[39m\u001b[38;5;124mkeyword, not positionally.\u001b[39m\u001b[38;5;124m\"\u001b[39m)\n\u001b[1;32m    405\u001b[0m     warn_deprecated(\n\u001b[1;32m    406\u001b[0m         since,\n\u001b[1;32m    407\u001b[0m         name\u001b[38;5;241m=\u001b[39m\u001b[38;5;28mrepr\u001b[39m(name),\n\u001b[0;32m   (...)\u001b[0m\n\u001b[1;32m    410\u001b[0m                  \u001b[38;5;28;01melse\u001b[39;00m deprecation_addendum,\n\u001b[1;32m    411\u001b[0m         \u001b[38;5;241m*\u001b[39m\u001b[38;5;241m*\u001b[39mkwargs)\n\u001b[0;32m--> 412\u001b[0m \u001b[38;5;28;01mreturn\u001b[39;00m \u001b[43mfunc\u001b[49m\u001b[43m(\u001b[49m\u001b[38;5;241;43m*\u001b[39;49m\u001b[43minner_args\u001b[49m\u001b[43m,\u001b[49m\u001b[43m \u001b[49m\u001b[38;5;241;43m*\u001b[39;49m\u001b[38;5;241;43m*\u001b[39;49m\u001b[43minner_kwargs\u001b[49m\u001b[43m)\u001b[49m\n",
      "File \u001b[0;32m~/.local/lib/python3.8/site-packages/matplotlib/backends/backend_agg.py:483\u001b[0m, in \u001b[0;36mFigureCanvasAgg.print_raw\u001b[0;34m(self, filename_or_obj, *args)\u001b[0m\n\u001b[1;32m    480\u001b[0m \u001b[38;5;129m@_check_savefig_extra_args\u001b[39m\n\u001b[1;32m    481\u001b[0m \u001b[38;5;129m@_api\u001b[39m\u001b[38;5;241m.\u001b[39mdelete_parameter(\u001b[38;5;124m\"\u001b[39m\u001b[38;5;124m3.5\u001b[39m\u001b[38;5;124m\"\u001b[39m, \u001b[38;5;124m\"\u001b[39m\u001b[38;5;124margs\u001b[39m\u001b[38;5;124m\"\u001b[39m)\n\u001b[1;32m    482\u001b[0m \u001b[38;5;28;01mdef\u001b[39;00m \u001b[38;5;21mprint_raw\u001b[39m(\u001b[38;5;28mself\u001b[39m, filename_or_obj, \u001b[38;5;241m*\u001b[39margs):\n\u001b[0;32m--> 483\u001b[0m     \u001b[43mFigureCanvasAgg\u001b[49m\u001b[38;5;241;43m.\u001b[39;49m\u001b[43mdraw\u001b[49m\u001b[43m(\u001b[49m\u001b[38;5;28;43mself\u001b[39;49m\u001b[43m)\u001b[49m\n\u001b[1;32m    484\u001b[0m     renderer \u001b[38;5;241m=\u001b[39m \u001b[38;5;28mself\u001b[39m\u001b[38;5;241m.\u001b[39mget_renderer()\n\u001b[1;32m    485\u001b[0m     \u001b[38;5;28;01mwith\u001b[39;00m cbook\u001b[38;5;241m.\u001b[39mopen_file_cm(filename_or_obj, \u001b[38;5;124m\"\u001b[39m\u001b[38;5;124mwb\u001b[39m\u001b[38;5;124m\"\u001b[39m) \u001b[38;5;28;01mas\u001b[39;00m fh:\n",
      "File \u001b[0;32m~/.local/lib/python3.8/site-packages/matplotlib/backends/backend_agg.py:436\u001b[0m, in \u001b[0;36mFigureCanvasAgg.draw\u001b[0;34m(self)\u001b[0m\n\u001b[1;32m    432\u001b[0m \u001b[38;5;66;03m# Acquire a lock on the shared font cache.\u001b[39;00m\n\u001b[1;32m    433\u001b[0m \u001b[38;5;28;01mwith\u001b[39;00m RendererAgg\u001b[38;5;241m.\u001b[39mlock, \\\n\u001b[1;32m    434\u001b[0m      (\u001b[38;5;28mself\u001b[39m\u001b[38;5;241m.\u001b[39mtoolbar\u001b[38;5;241m.\u001b[39m_wait_cursor_for_draw_cm() \u001b[38;5;28;01mif\u001b[39;00m \u001b[38;5;28mself\u001b[39m\u001b[38;5;241m.\u001b[39mtoolbar\n\u001b[1;32m    435\u001b[0m       \u001b[38;5;28;01melse\u001b[39;00m nullcontext()):\n\u001b[0;32m--> 436\u001b[0m     \u001b[38;5;28;43mself\u001b[39;49m\u001b[38;5;241;43m.\u001b[39;49m\u001b[43mfigure\u001b[49m\u001b[38;5;241;43m.\u001b[39;49m\u001b[43mdraw\u001b[49m\u001b[43m(\u001b[49m\u001b[38;5;28;43mself\u001b[39;49m\u001b[38;5;241;43m.\u001b[39;49m\u001b[43mrenderer\u001b[49m\u001b[43m)\u001b[49m\n\u001b[1;32m    437\u001b[0m     \u001b[38;5;66;03m# A GUI class may be need to update a window using this draw, so\u001b[39;00m\n\u001b[1;32m    438\u001b[0m     \u001b[38;5;66;03m# don't forget to call the superclass.\u001b[39;00m\n\u001b[1;32m    439\u001b[0m     \u001b[38;5;28msuper\u001b[39m()\u001b[38;5;241m.\u001b[39mdraw()\n",
      "File \u001b[0;32m~/.local/lib/python3.8/site-packages/matplotlib/artist.py:73\u001b[0m, in \u001b[0;36m_finalize_rasterization.<locals>.draw_wrapper\u001b[0;34m(artist, renderer, *args, **kwargs)\u001b[0m\n\u001b[1;32m     71\u001b[0m \u001b[38;5;129m@wraps\u001b[39m(draw)\n\u001b[1;32m     72\u001b[0m \u001b[38;5;28;01mdef\u001b[39;00m \u001b[38;5;21mdraw_wrapper\u001b[39m(artist, renderer, \u001b[38;5;241m*\u001b[39margs, \u001b[38;5;241m*\u001b[39m\u001b[38;5;241m*\u001b[39mkwargs):\n\u001b[0;32m---> 73\u001b[0m     result \u001b[38;5;241m=\u001b[39m \u001b[43mdraw\u001b[49m\u001b[43m(\u001b[49m\u001b[43martist\u001b[49m\u001b[43m,\u001b[49m\u001b[43m \u001b[49m\u001b[43mrenderer\u001b[49m\u001b[43m,\u001b[49m\u001b[43m \u001b[49m\u001b[38;5;241;43m*\u001b[39;49m\u001b[43margs\u001b[49m\u001b[43m,\u001b[49m\u001b[43m \u001b[49m\u001b[38;5;241;43m*\u001b[39;49m\u001b[38;5;241;43m*\u001b[39;49m\u001b[43mkwargs\u001b[49m\u001b[43m)\u001b[49m\n\u001b[1;32m     74\u001b[0m     \u001b[38;5;28;01mif\u001b[39;00m renderer\u001b[38;5;241m.\u001b[39m_rasterizing:\n\u001b[1;32m     75\u001b[0m         renderer\u001b[38;5;241m.\u001b[39mstop_rasterizing()\n",
      "File \u001b[0;32m~/.local/lib/python3.8/site-packages/matplotlib/artist.py:50\u001b[0m, in \u001b[0;36mallow_rasterization.<locals>.draw_wrapper\u001b[0;34m(artist, renderer)\u001b[0m\n\u001b[1;32m     47\u001b[0m     \u001b[38;5;28;01mif\u001b[39;00m artist\u001b[38;5;241m.\u001b[39mget_agg_filter() \u001b[38;5;129;01mis\u001b[39;00m \u001b[38;5;129;01mnot\u001b[39;00m \u001b[38;5;28;01mNone\u001b[39;00m:\n\u001b[1;32m     48\u001b[0m         renderer\u001b[38;5;241m.\u001b[39mstart_filter()\n\u001b[0;32m---> 50\u001b[0m     \u001b[38;5;28;01mreturn\u001b[39;00m \u001b[43mdraw\u001b[49m\u001b[43m(\u001b[49m\u001b[43martist\u001b[49m\u001b[43m,\u001b[49m\u001b[43m \u001b[49m\u001b[43mrenderer\u001b[49m\u001b[43m)\u001b[49m\n\u001b[1;32m     51\u001b[0m \u001b[38;5;28;01mfinally\u001b[39;00m:\n\u001b[1;32m     52\u001b[0m     \u001b[38;5;28;01mif\u001b[39;00m artist\u001b[38;5;241m.\u001b[39mget_agg_filter() \u001b[38;5;129;01mis\u001b[39;00m \u001b[38;5;129;01mnot\u001b[39;00m \u001b[38;5;28;01mNone\u001b[39;00m:\n",
      "File \u001b[0;32m~/.local/lib/python3.8/site-packages/matplotlib/figure.py:2810\u001b[0m, in \u001b[0;36mFigure.draw\u001b[0;34m(self, renderer)\u001b[0m\n\u001b[1;32m   2807\u001b[0m         \u001b[38;5;66;03m# ValueError can occur when resizing a window.\u001b[39;00m\n\u001b[1;32m   2809\u001b[0m \u001b[38;5;28mself\u001b[39m\u001b[38;5;241m.\u001b[39mpatch\u001b[38;5;241m.\u001b[39mdraw(renderer)\n\u001b[0;32m-> 2810\u001b[0m \u001b[43mmimage\u001b[49m\u001b[38;5;241;43m.\u001b[39;49m\u001b[43m_draw_list_compositing_images\u001b[49m\u001b[43m(\u001b[49m\n\u001b[1;32m   2811\u001b[0m \u001b[43m    \u001b[49m\u001b[43mrenderer\u001b[49m\u001b[43m,\u001b[49m\u001b[43m \u001b[49m\u001b[38;5;28;43mself\u001b[39;49m\u001b[43m,\u001b[49m\u001b[43m \u001b[49m\u001b[43martists\u001b[49m\u001b[43m,\u001b[49m\u001b[43m \u001b[49m\u001b[38;5;28;43mself\u001b[39;49m\u001b[38;5;241;43m.\u001b[39;49m\u001b[43msuppressComposite\u001b[49m\u001b[43m)\u001b[49m\n\u001b[1;32m   2813\u001b[0m \u001b[38;5;28;01mfor\u001b[39;00m sfig \u001b[38;5;129;01min\u001b[39;00m \u001b[38;5;28mself\u001b[39m\u001b[38;5;241m.\u001b[39msubfigs:\n\u001b[1;32m   2814\u001b[0m     sfig\u001b[38;5;241m.\u001b[39mdraw(renderer)\n",
      "File \u001b[0;32m~/.local/lib/python3.8/site-packages/matplotlib/image.py:132\u001b[0m, in \u001b[0;36m_draw_list_compositing_images\u001b[0;34m(renderer, parent, artists, suppress_composite)\u001b[0m\n\u001b[1;32m    130\u001b[0m \u001b[38;5;28;01mif\u001b[39;00m not_composite \u001b[38;5;129;01mor\u001b[39;00m \u001b[38;5;129;01mnot\u001b[39;00m has_images:\n\u001b[1;32m    131\u001b[0m     \u001b[38;5;28;01mfor\u001b[39;00m a \u001b[38;5;129;01min\u001b[39;00m artists:\n\u001b[0;32m--> 132\u001b[0m         \u001b[43ma\u001b[49m\u001b[38;5;241;43m.\u001b[39;49m\u001b[43mdraw\u001b[49m\u001b[43m(\u001b[49m\u001b[43mrenderer\u001b[49m\u001b[43m)\u001b[49m\n\u001b[1;32m    133\u001b[0m \u001b[38;5;28;01melse\u001b[39;00m:\n\u001b[1;32m    134\u001b[0m     \u001b[38;5;66;03m# Composite any adjacent images together\u001b[39;00m\n\u001b[1;32m    135\u001b[0m     image_group \u001b[38;5;241m=\u001b[39m []\n",
      "File \u001b[0;32m~/.local/lib/python3.8/site-packages/matplotlib/artist.py:50\u001b[0m, in \u001b[0;36mallow_rasterization.<locals>.draw_wrapper\u001b[0;34m(artist, renderer)\u001b[0m\n\u001b[1;32m     47\u001b[0m     \u001b[38;5;28;01mif\u001b[39;00m artist\u001b[38;5;241m.\u001b[39mget_agg_filter() \u001b[38;5;129;01mis\u001b[39;00m \u001b[38;5;129;01mnot\u001b[39;00m \u001b[38;5;28;01mNone\u001b[39;00m:\n\u001b[1;32m     48\u001b[0m         renderer\u001b[38;5;241m.\u001b[39mstart_filter()\n\u001b[0;32m---> 50\u001b[0m     \u001b[38;5;28;01mreturn\u001b[39;00m \u001b[43mdraw\u001b[49m\u001b[43m(\u001b[49m\u001b[43martist\u001b[49m\u001b[43m,\u001b[49m\u001b[43m \u001b[49m\u001b[43mrenderer\u001b[49m\u001b[43m)\u001b[49m\n\u001b[1;32m     51\u001b[0m \u001b[38;5;28;01mfinally\u001b[39;00m:\n\u001b[1;32m     52\u001b[0m     \u001b[38;5;28;01mif\u001b[39;00m artist\u001b[38;5;241m.\u001b[39mget_agg_filter() \u001b[38;5;129;01mis\u001b[39;00m \u001b[38;5;129;01mnot\u001b[39;00m \u001b[38;5;28;01mNone\u001b[39;00m:\n",
      "File \u001b[0;32m~/.local/lib/python3.8/site-packages/matplotlib/axes/_base.py:3046\u001b[0m, in \u001b[0;36m_AxesBase.draw\u001b[0;34m(self, renderer)\u001b[0m\n\u001b[1;32m   3043\u001b[0m     \u001b[38;5;28;01mfor\u001b[39;00m spine \u001b[38;5;129;01min\u001b[39;00m \u001b[38;5;28mself\u001b[39m\u001b[38;5;241m.\u001b[39mspines\u001b[38;5;241m.\u001b[39mvalues():\n\u001b[1;32m   3044\u001b[0m         artists\u001b[38;5;241m.\u001b[39mremove(spine)\n\u001b[0;32m-> 3046\u001b[0m \u001b[38;5;28;43mself\u001b[39;49m\u001b[38;5;241;43m.\u001b[39;49m\u001b[43m_update_title_position\u001b[49m\u001b[43m(\u001b[49m\u001b[43mrenderer\u001b[49m\u001b[43m)\u001b[49m\n\u001b[1;32m   3048\u001b[0m \u001b[38;5;28;01mif\u001b[39;00m \u001b[38;5;129;01mnot\u001b[39;00m \u001b[38;5;28mself\u001b[39m\u001b[38;5;241m.\u001b[39maxison:\n\u001b[1;32m   3049\u001b[0m     \u001b[38;5;28;01mfor\u001b[39;00m _axis \u001b[38;5;129;01min\u001b[39;00m \u001b[38;5;28mself\u001b[39m\u001b[38;5;241m.\u001b[39m_get_axis_list():\n",
      "File \u001b[0;32m~/.local/lib/python3.8/site-packages/matplotlib/axes/_base.py:2986\u001b[0m, in \u001b[0;36m_AxesBase._update_title_position\u001b[0;34m(self, renderer)\u001b[0m\n\u001b[1;32m   2983\u001b[0m \u001b[38;5;28;01mfor\u001b[39;00m ax \u001b[38;5;129;01min\u001b[39;00m axs:\n\u001b[1;32m   2984\u001b[0m     \u001b[38;5;28;01mif\u001b[39;00m (ax\u001b[38;5;241m.\u001b[39mxaxis\u001b[38;5;241m.\u001b[39mget_ticks_position() \u001b[38;5;129;01min\u001b[39;00m [\u001b[38;5;124m'\u001b[39m\u001b[38;5;124mtop\u001b[39m\u001b[38;5;124m'\u001b[39m, \u001b[38;5;124m'\u001b[39m\u001b[38;5;124munknown\u001b[39m\u001b[38;5;124m'\u001b[39m]\n\u001b[1;32m   2985\u001b[0m             \u001b[38;5;129;01mor\u001b[39;00m ax\u001b[38;5;241m.\u001b[39mxaxis\u001b[38;5;241m.\u001b[39mget_label_position() \u001b[38;5;241m==\u001b[39m \u001b[38;5;124m'\u001b[39m\u001b[38;5;124mtop\u001b[39m\u001b[38;5;124m'\u001b[39m):\n\u001b[0;32m-> 2986\u001b[0m         bb \u001b[38;5;241m=\u001b[39m \u001b[43max\u001b[49m\u001b[38;5;241;43m.\u001b[39;49m\u001b[43mxaxis\u001b[49m\u001b[38;5;241;43m.\u001b[39;49m\u001b[43mget_tightbbox\u001b[49m\u001b[43m(\u001b[49m\u001b[43mrenderer\u001b[49m\u001b[43m)\u001b[49m\n\u001b[1;32m   2987\u001b[0m     \u001b[38;5;28;01melse\u001b[39;00m:\n\u001b[1;32m   2988\u001b[0m         bb \u001b[38;5;241m=\u001b[39m ax\u001b[38;5;241m.\u001b[39mget_window_extent(renderer)\n",
      "File \u001b[0;32m~/.local/lib/python3.8/site-packages/matplotlib/axis.py:1103\u001b[0m, in \u001b[0;36mAxis.get_tightbbox\u001b[0;34m(self, renderer, for_layout_only)\u001b[0m\n\u001b[1;32m   1100\u001b[0m \u001b[38;5;28;01mif\u001b[39;00m \u001b[38;5;129;01mnot\u001b[39;00m \u001b[38;5;28mself\u001b[39m\u001b[38;5;241m.\u001b[39mget_visible():\n\u001b[1;32m   1101\u001b[0m     \u001b[38;5;28;01mreturn\u001b[39;00m\n\u001b[0;32m-> 1103\u001b[0m ticks_to_draw \u001b[38;5;241m=\u001b[39m \u001b[38;5;28;43mself\u001b[39;49m\u001b[38;5;241;43m.\u001b[39;49m\u001b[43m_update_ticks\u001b[49m\u001b[43m(\u001b[49m\u001b[43m)\u001b[49m\n\u001b[1;32m   1105\u001b[0m \u001b[38;5;28mself\u001b[39m\u001b[38;5;241m.\u001b[39m_update_label_position(renderer)\n\u001b[1;32m   1107\u001b[0m \u001b[38;5;66;03m# go back to just this axis's tick labels\u001b[39;00m\n",
      "File \u001b[0;32m~/.local/lib/python3.8/site-packages/matplotlib/axis.py:1053\u001b[0m, in \u001b[0;36mAxis._update_ticks\u001b[0;34m(self)\u001b[0m\n\u001b[1;32m   1051\u001b[0m     tick\u001b[38;5;241m.\u001b[39mset_label1(label)\n\u001b[1;32m   1052\u001b[0m     tick\u001b[38;5;241m.\u001b[39mset_label2(label)\n\u001b[0;32m-> 1053\u001b[0m minor_locs \u001b[38;5;241m=\u001b[39m \u001b[38;5;28;43mself\u001b[39;49m\u001b[38;5;241;43m.\u001b[39;49m\u001b[43mget_minorticklocs\u001b[49m\u001b[43m(\u001b[49m\u001b[43m)\u001b[49m\n\u001b[1;32m   1054\u001b[0m minor_labels \u001b[38;5;241m=\u001b[39m \u001b[38;5;28mself\u001b[39m\u001b[38;5;241m.\u001b[39mminor\u001b[38;5;241m.\u001b[39mformatter\u001b[38;5;241m.\u001b[39mformat_ticks(minor_locs)\n\u001b[1;32m   1055\u001b[0m minor_ticks \u001b[38;5;241m=\u001b[39m \u001b[38;5;28mself\u001b[39m\u001b[38;5;241m.\u001b[39mget_minor_ticks(\u001b[38;5;28mlen\u001b[39m(minor_locs))\n",
      "File \u001b[0;32m~/.local/lib/python3.8/site-packages/matplotlib/axis.py:1282\u001b[0m, in \u001b[0;36mAxis.get_minorticklocs\u001b[0;34m(self)\u001b[0m\n\u001b[1;32m   1280\u001b[0m \u001b[38;5;124;03m\"\"\"Return this Axis' minor tick locations in data coordinates.\"\"\"\u001b[39;00m\n\u001b[1;32m   1281\u001b[0m \u001b[38;5;66;03m# Remove minor ticks duplicating major ticks.\u001b[39;00m\n\u001b[0;32m-> 1282\u001b[0m major_locs \u001b[38;5;241m=\u001b[39m \u001b[38;5;28;43mself\u001b[39;49m\u001b[38;5;241;43m.\u001b[39;49m\u001b[43mmajor\u001b[49m\u001b[38;5;241;43m.\u001b[39;49m\u001b[43mlocator\u001b[49m\u001b[43m(\u001b[49m\u001b[43m)\u001b[49m\n\u001b[1;32m   1283\u001b[0m minor_locs \u001b[38;5;241m=\u001b[39m \u001b[38;5;28mself\u001b[39m\u001b[38;5;241m.\u001b[39mminor\u001b[38;5;241m.\u001b[39mlocator()\n\u001b[1;32m   1284\u001b[0m transform \u001b[38;5;241m=\u001b[39m \u001b[38;5;28mself\u001b[39m\u001b[38;5;241m.\u001b[39m_scale\u001b[38;5;241m.\u001b[39mget_transform()\n",
      "File \u001b[0;32m~/.local/lib/python3.8/site-packages/matplotlib/ticker.py:2114\u001b[0m, in \u001b[0;36mMaxNLocator.__call__\u001b[0;34m(self)\u001b[0m\n\u001b[1;32m   2112\u001b[0m \u001b[38;5;28;01mdef\u001b[39;00m \u001b[38;5;21m__call__\u001b[39m(\u001b[38;5;28mself\u001b[39m):\n\u001b[1;32m   2113\u001b[0m     vmin, vmax \u001b[38;5;241m=\u001b[39m \u001b[38;5;28mself\u001b[39m\u001b[38;5;241m.\u001b[39maxis\u001b[38;5;241m.\u001b[39mget_view_interval()\n\u001b[0;32m-> 2114\u001b[0m     \u001b[38;5;28;01mreturn\u001b[39;00m \u001b[38;5;28;43mself\u001b[39;49m\u001b[38;5;241;43m.\u001b[39;49m\u001b[43mtick_values\u001b[49m\u001b[43m(\u001b[49m\u001b[43mvmin\u001b[49m\u001b[43m,\u001b[49m\u001b[43m \u001b[49m\u001b[43mvmax\u001b[49m\u001b[43m)\u001b[49m\n",
      "File \u001b[0;32m~/.local/lib/python3.8/site-packages/matplotlib/ticker.py:2122\u001b[0m, in \u001b[0;36mMaxNLocator.tick_values\u001b[0;34m(self, vmin, vmax)\u001b[0m\n\u001b[1;32m   2119\u001b[0m     vmin \u001b[38;5;241m=\u001b[39m \u001b[38;5;241m-\u001b[39mvmax\n\u001b[1;32m   2120\u001b[0m vmin, vmax \u001b[38;5;241m=\u001b[39m mtransforms\u001b[38;5;241m.\u001b[39mnonsingular(\n\u001b[1;32m   2121\u001b[0m     vmin, vmax, expander\u001b[38;5;241m=\u001b[39m\u001b[38;5;241m1e-13\u001b[39m, tiny\u001b[38;5;241m=\u001b[39m\u001b[38;5;241m1e-14\u001b[39m)\n\u001b[0;32m-> 2122\u001b[0m locs \u001b[38;5;241m=\u001b[39m \u001b[38;5;28;43mself\u001b[39;49m\u001b[38;5;241;43m.\u001b[39;49m\u001b[43m_raw_ticks\u001b[49m\u001b[43m(\u001b[49m\u001b[43mvmin\u001b[49m\u001b[43m,\u001b[49m\u001b[43m \u001b[49m\u001b[43mvmax\u001b[49m\u001b[43m)\u001b[49m\n\u001b[1;32m   2124\u001b[0m prune \u001b[38;5;241m=\u001b[39m \u001b[38;5;28mself\u001b[39m\u001b[38;5;241m.\u001b[39m_prune\n\u001b[1;32m   2125\u001b[0m \u001b[38;5;28;01mif\u001b[39;00m prune \u001b[38;5;241m==\u001b[39m \u001b[38;5;124m'\u001b[39m\u001b[38;5;124mlower\u001b[39m\u001b[38;5;124m'\u001b[39m:\n",
      "File \u001b[0;32m~/.local/lib/python3.8/site-packages/matplotlib/ticker.py:2078\u001b[0m, in \u001b[0;36mMaxNLocator._raw_ticks\u001b[0;34m(self, vmin, vmax)\u001b[0m\n\u001b[1;32m   2075\u001b[0m     igood \u001b[38;5;241m=\u001b[39m (steps \u001b[38;5;241m<\u001b[39m \u001b[38;5;241m1\u001b[39m) \u001b[38;5;241m|\u001b[39m (np\u001b[38;5;241m.\u001b[39mabs(steps \u001b[38;5;241m-\u001b[39m np\u001b[38;5;241m.\u001b[39mround(steps)) \u001b[38;5;241m<\u001b[39m \u001b[38;5;241m0.001\u001b[39m)\n\u001b[1;32m   2076\u001b[0m     steps \u001b[38;5;241m=\u001b[39m steps[igood]\n\u001b[0;32m-> 2078\u001b[0m istep \u001b[38;5;241m=\u001b[39m np\u001b[38;5;241m.\u001b[39mnonzero(\u001b[43msteps\u001b[49m\u001b[43m \u001b[49m\u001b[38;5;241;43m>\u001b[39;49m\u001b[38;5;241;43m=\u001b[39;49m\u001b[43m \u001b[49m\u001b[43mraw_step\u001b[49m)[\u001b[38;5;241m0\u001b[39m][\u001b[38;5;241m0\u001b[39m]\n\u001b[1;32m   2080\u001b[0m \u001b[38;5;66;03m# Classic round_numbers mode may require a larger step.\u001b[39;00m\n\u001b[1;32m   2081\u001b[0m \u001b[38;5;28;01mif\u001b[39;00m mpl\u001b[38;5;241m.\u001b[39mrcParams[\u001b[38;5;124m'\u001b[39m\u001b[38;5;124maxes.autolimit_mode\u001b[39m\u001b[38;5;124m'\u001b[39m] \u001b[38;5;241m==\u001b[39m \u001b[38;5;124m'\u001b[39m\u001b[38;5;124mround_numbers\u001b[39m\u001b[38;5;124m'\u001b[39m:\n",
      "\u001b[0;31mKeyboardInterrupt\u001b[0m: "
     ]
    }
   ],
   "source": [
    "ani.save('dynamic_network.mp4', writer='ffmpeg')  # Save as MP4\n"
   ]
  },
  {
   "cell_type": "markdown",
   "metadata": {},
   "source": [
    "### Create time embedding"
   ]
  },
  {
   "cell_type": "code",
   "execution_count": null,
   "metadata": {},
   "outputs": [],
   "source": []
  }
 ],
 "metadata": {
  "kernelspec": {
   "display_name": "proMaster",
   "language": "python",
   "name": "python3"
  },
  "language_info": {
   "codemirror_mode": {
    "name": "ipython",
    "version": 3
   },
   "file_extension": ".py",
   "mimetype": "text/x-python",
   "name": "python",
   "nbconvert_exporter": "python",
   "pygments_lexer": "ipython3",
   "version": "3.8.18"
  }
 },
 "nbformat": 4,
 "nbformat_minor": 2
}
